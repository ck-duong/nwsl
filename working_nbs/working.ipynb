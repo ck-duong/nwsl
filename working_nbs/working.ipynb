{
 "cells": [
  {
   "cell_type": "markdown",
   "metadata": {},
   "source": [
    "# NWSL Exploratory Data Analysis"
   ]
  },
  {
   "cell_type": "markdown",
   "metadata": {},
   "source": [
    "## Introduction\n",
    "The National Women's Soccer League (NWSL) is the premier professional women's soccer league in the United States. In this repository, I will be scraping player and team data, from the NWSL website (www.nwslsoccer.com) and performing exploratory data analysis on the collected data."
   ]
  },
  {
   "cell_type": "code",
   "execution_count": 9,
   "metadata": {},
   "outputs": [],
   "source": [
    "#necessary imports to run the code\n",
    "import requests\n",
    "from bs4 import BeautifulSoup\n",
    "import pandas as pd\n",
    "import numpy as np\n",
    "import os"
   ]
  },
  {
   "cell_type": "code",
   "execution_count": 97,
   "metadata": {},
   "outputs": [
    {
     "data": {
      "text/html": [
       "        <script type=\"text/javascript\">\n",
       "        window.PlotlyConfig = {MathJaxConfig: 'local'};\n",
       "        if (window.MathJax) {MathJax.Hub.Config({SVG: {font: \"STIX-Web\"}});}\n",
       "        if (typeof require !== 'undefined') {\n",
       "        require.undef(\"plotly\");\n",
       "        requirejs.config({\n",
       "            paths: {\n",
       "                'plotly': ['https://cdn.plot.ly/plotly-latest.min']\n",
       "            }\n",
       "        });\n",
       "        require(['plotly'], function(Plotly) {\n",
       "            window._Plotly = Plotly;\n",
       "        });\n",
       "        }\n",
       "        </script>\n",
       "        "
      ]
     },
     "metadata": {},
     "output_type": "display_data"
    },
    {
     "data": {
      "text/html": [
       "        <script type=\"text/javascript\">\n",
       "        window.PlotlyConfig = {MathJaxConfig: 'local'};\n",
       "        if (window.MathJax) {MathJax.Hub.Config({SVG: {font: \"STIX-Web\"}});}\n",
       "        if (typeof require !== 'undefined') {\n",
       "        require.undef(\"plotly\");\n",
       "        requirejs.config({\n",
       "            paths: {\n",
       "                'plotly': ['https://cdn.plot.ly/plotly-latest.min']\n",
       "            }\n",
       "        });\n",
       "        require(['plotly'], function(Plotly) {\n",
       "            window._Plotly = Plotly;\n",
       "        });\n",
       "        }\n",
       "        </script>\n",
       "        "
      ]
     },
     "metadata": {},
     "output_type": "display_data"
    }
   ],
   "source": [
    "#imports for data visualization\n",
    "import seaborn as sns\n",
    "import matplotlib.pyplot as plt\n",
    "import plotly.plotly as py\n",
    "import plotly.graph_objs as go\n",
    "import plotly\n",
    "import cufflinks as cf\n",
    "\n",
    "plotly.offline.init_notebook_mode(connected=True)\n",
    "cf.set_config_file(offline=True, world_readable=True, theme='ggplot')"
   ]
  },
  {
   "cell_type": "code",
   "execution_count": 107,
   "metadata": {},
   "outputs": [
    {
     "data": {
      "text/html": [
       "<div>\n",
       "<style scoped>\n",
       "    .dataframe tbody tr th:only-of-type {\n",
       "        vertical-align: middle;\n",
       "    }\n",
       "\n",
       "    .dataframe tbody tr th {\n",
       "        vertical-align: top;\n",
       "    }\n",
       "\n",
       "    .dataframe thead th {\n",
       "        text-align: right;\n",
       "    }\n",
       "</style>\n",
       "<table border=\"1\" class=\"dataframe\">\n",
       "  <thead>\n",
       "    <tr style=\"text-align: right;\">\n",
       "      <th></th>\n",
       "      <th>Player Name</th>\n",
       "      <th>Team</th>\n",
       "      <th>Games Played</th>\n",
       "      <th>Games Started</th>\n",
       "      <th>Minutes Played</th>\n",
       "      <th>Goals</th>\n",
       "      <th>Assists</th>\n",
       "      <th>Shots</th>\n",
       "      <th>Shots on Goal</th>\n",
       "      <th>Fouls Committed</th>\n",
       "      <th>...</th>\n",
       "      <th>Penalty Kicks Attempted</th>\n",
       "      <th>Penalty Kick Goals</th>\n",
       "      <th>Yellow Cards</th>\n",
       "      <th>Red Cards</th>\n",
       "      <th>Goals per Game</th>\n",
       "      <th>Assists per Game</th>\n",
       "      <th>Shots per Game</th>\n",
       "      <th>Prop SoG</th>\n",
       "      <th>Shots per Goal</th>\n",
       "      <th>Prop Penalty</th>\n",
       "    </tr>\n",
       "  </thead>\n",
       "  <tbody>\n",
       "    <tr>\n",
       "      <th>0</th>\n",
       "      <td>Sam Kerr</td>\n",
       "      <td>CHI</td>\n",
       "      <td>6.0</td>\n",
       "      <td>6.0</td>\n",
       "      <td>540.0</td>\n",
       "      <td>6.0</td>\n",
       "      <td>1.0</td>\n",
       "      <td>21.0</td>\n",
       "      <td>14.0</td>\n",
       "      <td>2.0</td>\n",
       "      <td>...</td>\n",
       "      <td>0.0</td>\n",
       "      <td>0.0</td>\n",
       "      <td>1.0</td>\n",
       "      <td>0.0</td>\n",
       "      <td>1.000000</td>\n",
       "      <td>0.166667</td>\n",
       "      <td>3.500000</td>\n",
       "      <td>0.666667</td>\n",
       "      <td>0.428571</td>\n",
       "      <td>0.0</td>\n",
       "    </tr>\n",
       "    <tr>\n",
       "      <th>1</th>\n",
       "      <td>Crystal Dunn</td>\n",
       "      <td>NC</td>\n",
       "      <td>3.0</td>\n",
       "      <td>3.0</td>\n",
       "      <td>253.0</td>\n",
       "      <td>4.0</td>\n",
       "      <td>1.0</td>\n",
       "      <td>9.0</td>\n",
       "      <td>8.0</td>\n",
       "      <td>2.0</td>\n",
       "      <td>...</td>\n",
       "      <td>0.0</td>\n",
       "      <td>0.0</td>\n",
       "      <td>0.0</td>\n",
       "      <td>0.0</td>\n",
       "      <td>1.333333</td>\n",
       "      <td>0.333333</td>\n",
       "      <td>3.000000</td>\n",
       "      <td>0.888889</td>\n",
       "      <td>0.500000</td>\n",
       "      <td>0.0</td>\n",
       "    </tr>\n",
       "    <tr>\n",
       "      <th>2</th>\n",
       "      <td>Amy Rodriguez</td>\n",
       "      <td>UTA</td>\n",
       "      <td>7.0</td>\n",
       "      <td>7.0</td>\n",
       "      <td>586.0</td>\n",
       "      <td>4.0</td>\n",
       "      <td>0.0</td>\n",
       "      <td>20.0</td>\n",
       "      <td>11.0</td>\n",
       "      <td>9.0</td>\n",
       "      <td>...</td>\n",
       "      <td>1.0</td>\n",
       "      <td>1.0</td>\n",
       "      <td>1.0</td>\n",
       "      <td>0.0</td>\n",
       "      <td>0.571429</td>\n",
       "      <td>0.000000</td>\n",
       "      <td>2.857143</td>\n",
       "      <td>0.550000</td>\n",
       "      <td>0.363636</td>\n",
       "      <td>1.0</td>\n",
       "    </tr>\n",
       "    <tr>\n",
       "      <th>3</th>\n",
       "      <td>Caitlin Foord</td>\n",
       "      <td>POR</td>\n",
       "      <td>5.0</td>\n",
       "      <td>5.0</td>\n",
       "      <td>447.0</td>\n",
       "      <td>3.0</td>\n",
       "      <td>1.0</td>\n",
       "      <td>11.0</td>\n",
       "      <td>6.0</td>\n",
       "      <td>7.0</td>\n",
       "      <td>...</td>\n",
       "      <td>1.0</td>\n",
       "      <td>0.0</td>\n",
       "      <td>0.0</td>\n",
       "      <td>0.0</td>\n",
       "      <td>0.600000</td>\n",
       "      <td>0.200000</td>\n",
       "      <td>2.200000</td>\n",
       "      <td>0.545455</td>\n",
       "      <td>0.500000</td>\n",
       "      <td>0.0</td>\n",
       "    </tr>\n",
       "    <tr>\n",
       "      <th>4</th>\n",
       "      <td>Kristen Hamilton</td>\n",
       "      <td>NC</td>\n",
       "      <td>8.0</td>\n",
       "      <td>5.0</td>\n",
       "      <td>414.0</td>\n",
       "      <td>3.0</td>\n",
       "      <td>1.0</td>\n",
       "      <td>13.0</td>\n",
       "      <td>5.0</td>\n",
       "      <td>7.0</td>\n",
       "      <td>...</td>\n",
       "      <td>0.0</td>\n",
       "      <td>0.0</td>\n",
       "      <td>0.0</td>\n",
       "      <td>0.0</td>\n",
       "      <td>0.375000</td>\n",
       "      <td>0.125000</td>\n",
       "      <td>1.625000</td>\n",
       "      <td>0.384615</td>\n",
       "      <td>0.600000</td>\n",
       "      <td>0.0</td>\n",
       "    </tr>\n",
       "  </tbody>\n",
       "</table>\n",
       "<p>5 rows × 22 columns</p>\n",
       "</div>"
      ],
      "text/plain": [
       "        Player Name Team  Games Played  Games Started  Minutes Played  Goals  \\\n",
       "0          Sam Kerr  CHI           6.0            6.0           540.0    6.0   \n",
       "1      Crystal Dunn   NC           3.0            3.0           253.0    4.0   \n",
       "2     Amy Rodriguez  UTA           7.0            7.0           586.0    4.0   \n",
       "3     Caitlin Foord  POR           5.0            5.0           447.0    3.0   \n",
       "4  Kristen Hamilton   NC           8.0            5.0           414.0    3.0   \n",
       "\n",
       "   Assists  Shots  Shots on Goal  Fouls Committed  ...  \\\n",
       "0      1.0   21.0           14.0              2.0  ...   \n",
       "1      1.0    9.0            8.0              2.0  ...   \n",
       "2      0.0   20.0           11.0              9.0  ...   \n",
       "3      1.0   11.0            6.0              7.0  ...   \n",
       "4      1.0   13.0            5.0              7.0  ...   \n",
       "\n",
       "   Penalty Kicks Attempted  Penalty Kick Goals  Yellow Cards  Red Cards  \\\n",
       "0                      0.0                 0.0           1.0        0.0   \n",
       "1                      0.0                 0.0           0.0        0.0   \n",
       "2                      1.0                 1.0           1.0        0.0   \n",
       "3                      1.0                 0.0           0.0        0.0   \n",
       "4                      0.0                 0.0           0.0        0.0   \n",
       "\n",
       "   Goals per Game  Assists per Game  Shots per Game  Prop SoG  Shots per Goal  \\\n",
       "0        1.000000          0.166667        3.500000  0.666667        0.428571   \n",
       "1        1.333333          0.333333        3.000000  0.888889        0.500000   \n",
       "2        0.571429          0.000000        2.857143  0.550000        0.363636   \n",
       "3        0.600000          0.200000        2.200000  0.545455        0.500000   \n",
       "4        0.375000          0.125000        1.625000  0.384615        0.600000   \n",
       "\n",
       "   Prop Penalty  \n",
       "0           0.0  \n",
       "1           0.0  \n",
       "2           1.0  \n",
       "3           0.0  \n",
       "4           0.0  \n",
       "\n",
       "[5 rows x 22 columns]"
      ]
     },
     "execution_count": 107,
     "metadata": {},
     "output_type": "execute_result"
    }
   ],
   "source": [
    "nwsl_2019.head()"
   ]
  },
  {
   "cell_type": "code",
   "execution_count": 119,
   "metadata": {},
   "outputs": [
    {
     "data": {
      "application/vnd.plotly.v1+json": {
       "config": {
        "linkText": "Export to plot.ly",
        "plotlyServerURL": "https://plot.ly",
        "showLink": true
       },
       "data": [
        {
         "marker": {
          "color": "rgba(226, 74, 51, 0.6)",
          "line": {
           "color": "rgba(226, 74, 51, 1.0)",
           "width": 1
          }
         },
         "name": "Shots on Goal",
         "orientation": "v",
         "text": "",
         "type": "bar",
         "uid": "b875159b-4ea8-41ed-b74d-8afc5b8253cc",
         "x": [
          "CHI",
          "HOU",
          "NC",
          "NJ",
          "ORL",
          "POR",
          "SEA",
          "UTA",
          "WAS"
         ],
         "y": [
          39,
          43,
          55,
          19,
          15,
          37,
          38,
          28,
          31
         ]
        },
        {
         "marker": {
          "color": "rgba(62, 111, 176, 0.6)",
          "line": {
           "color": "rgba(62, 111, 176, 1.0)",
           "width": 1
          }
         },
         "name": "Goals",
         "orientation": "v",
         "text": "",
         "type": "bar",
         "uid": "7f0eeb35-4dd5-473d-995f-be4afa3e9872",
         "x": [
          "CHI",
          "HOU",
          "NC",
          "NJ",
          "ORL",
          "POR",
          "SEA",
          "UTA",
          "WAS"
         ],
         "y": [
          13,
          8,
          16,
          5,
          2,
          16,
          6,
          7,
          10
         ]
        },
        {
         "marker": {
          "color": "rgba(132, 118, 202, 0.6)",
          "line": {
           "color": "rgba(132, 118, 202, 1.0)",
           "width": 1
          }
         },
         "name": "Assists",
         "orientation": "v",
         "text": "",
         "type": "bar",
         "uid": "b2614578-10c0-4746-b607-68cf330cb69c",
         "x": [
          "CHI",
          "HOU",
          "NC",
          "NJ",
          "ORL",
          "POR",
          "SEA",
          "UTA",
          "WAS"
         ],
         "y": [
          8,
          3,
          11,
          4,
          1,
          10,
          3,
          5,
          7
         ]
        }
       ],
       "layout": {
        "title": {
         "text": "Goals/Assists by Team"
        }
       }
      },
      "text/html": [
       "<div>\n",
       "        \n",
       "        \n",
       "            <div id=\"fd0f9402-dfc7-4c36-805b-21aca40642a3\" class=\"plotly-graph-div\" style=\"height:525px; width:100%;\"></div>\n",
       "            <script type=\"text/javascript\">\n",
       "                require([\"plotly\"], function(Plotly) {\n",
       "                    window.PLOTLYENV=window.PLOTLYENV || {};\n",
       "                    window.PLOTLYENV.BASE_URL='https://plot.ly';\n",
       "                    \n",
       "                if (document.getElementById(\"fd0f9402-dfc7-4c36-805b-21aca40642a3\")) {\n",
       "                    Plotly.newPlot(\n",
       "                        'fd0f9402-dfc7-4c36-805b-21aca40642a3',\n",
       "                        [{\"marker\": {\"color\": \"rgba(226, 74, 51, 0.6)\", \"line\": {\"color\": \"rgba(226, 74, 51, 1.0)\", \"width\": 1}}, \"name\": \"Shots on Goal\", \"orientation\": \"v\", \"text\": \"\", \"type\": \"bar\", \"uid\": \"b875159b-4ea8-41ed-b74d-8afc5b8253cc\", \"x\": [\"CHI\", \"HOU\", \"NC\", \"NJ\", \"ORL\", \"POR\", \"SEA\", \"UTA\", \"WAS\"], \"y\": [39.0, 43.0, 55.0, 19.0, 15.0, 37.0, 38.0, 28.0, 31.0]}, {\"marker\": {\"color\": \"rgba(62, 111, 176, 0.6)\", \"line\": {\"color\": \"rgba(62, 111, 176, 1.0)\", \"width\": 1}}, \"name\": \"Goals\", \"orientation\": \"v\", \"text\": \"\", \"type\": \"bar\", \"uid\": \"7f0eeb35-4dd5-473d-995f-be4afa3e9872\", \"x\": [\"CHI\", \"HOU\", \"NC\", \"NJ\", \"ORL\", \"POR\", \"SEA\", \"UTA\", \"WAS\"], \"y\": [13.0, 8.0, 16.0, 5.0, 2.0, 16.0, 6.0, 7.0, 10.0]}, {\"marker\": {\"color\": \"rgba(132, 118, 202, 0.6)\", \"line\": {\"color\": \"rgba(132, 118, 202, 1.0)\", \"width\": 1}}, \"name\": \"Assists\", \"orientation\": \"v\", \"text\": \"\", \"type\": \"bar\", \"uid\": \"b2614578-10c0-4746-b607-68cf330cb69c\", \"x\": [\"CHI\", \"HOU\", \"NC\", \"NJ\", \"ORL\", \"POR\", \"SEA\", \"UTA\", \"WAS\"], \"y\": [8.0, 3.0, 11.0, 4.0, 1.0, 10.0, 3.0, 5.0, 7.0]}],\n",
       "                        {\"title\": {\"text\": \"Goals/Assists by Team\"}},\n",
       "                        {\"showLink\": true, \"linkText\": \"Export to plot.ly\", \"plotlyServerURL\": \"https://plot.ly\", \"responsive\": true}\n",
       "                    ).then(function(){\n",
       "                            \n",
       "var gd = document.getElementById('fd0f9402-dfc7-4c36-805b-21aca40642a3');\n",
       "var x = new MutationObserver(function (mutations, observer) {{\n",
       "        var display = window.getComputedStyle(gd).display;\n",
       "        if (!display || display === 'none') {{\n",
       "            console.log([gd, 'removed!']);\n",
       "            Plotly.purge(gd);\n",
       "            observer.disconnect();\n",
       "        }}\n",
       "}});\n",
       "\n",
       "// Listen for the removal of the full notebook cells\n",
       "var notebookContainer = gd.closest('#notebook-container');\n",
       "if (notebookContainer) {{\n",
       "    x.observe(notebookContainer, {childList: true});\n",
       "}}\n",
       "\n",
       "// Listen for the clearing of the current output cell\n",
       "var outputEl = gd.closest('.output');\n",
       "if (outputEl) {{\n",
       "    x.observe(outputEl, {childList: true});\n",
       "}}\n",
       "\n",
       "                        })\n",
       "                };\n",
       "                });\n",
       "            </script>\n",
       "        </div>"
      ]
     },
     "metadata": {},
     "output_type": "display_data"
    }
   ],
   "source": [
    "summed = nwsl_2019.groupby('Team').sum()\n",
    "\n",
    "layout = go.Layout(\n",
    "    title='Goals/Assists by Team',\n",
    ")\n",
    "\n",
    "summed[['Shots on Goal', 'Goals', 'Assists', ]].iplot(kind = 'bar', layout = layout)"
   ]
  },
  {
   "cell_type": "code",
   "execution_count": 2,
   "metadata": {},
   "outputs": [],
   "source": [
    "%load_ext autoreload\n",
    "%autoreload 2"
   ]
  },
  {
   "cell_type": "markdown",
   "metadata": {},
   "source": [
    "## Scraping\n",
    "In the subdirectory \"scraping\", there are two Python files written to scrape data from the official NWSL website: statscrape.py and teamscrape.py. \n",
    "\n",
    "The statscrape.py file scrapes player data from the Stats page of the website for each player in the league from 2016 through 2019, each of the years the league has existed and compiles them into csv files by year, entitled \"nwsl{}.csv\" for each year. \n",
    "\n",
    "The teamscrape.py file scrapes player data from the Team pages of the website for each team for each year the team has existed and compiles them into csv files by year, entitled \"position{}.csv\" for each year.\n",
    "\n",
    "In the following cell of code, I run these two files to create the csvs I will be working with in the rest of this notebook. Currently they are commented out since they only need to be run once to collect our data. However, I will note that the 2019 NWSL season is currently taking place, meaning that rerunning these files will get us the most up to date data. \n",
    "\n",
    "For this analysis, I will only be looking at the April and May statistics for the 2019 season, although my code will be able to work with future data as well since it will all be formatted in the same way. It is also worth nothing that as of June 2019, many NWSL teams are missing players who also serve on their national team (such as the USWNT, CANWNT, etc) due to the Women's World Cup occuring this summer."
   ]
  },
  {
   "cell_type": "code",
   "execution_count": 3,
   "metadata": {},
   "outputs": [],
   "source": [
    "#py files to run to scrape the data from the NWSL page. Only need to run once.\n",
    "#!python ./scraping/statscrape.py\n",
    "#!python ./scraping/teamscrape.py"
   ]
  },
  {
   "cell_type": "markdown",
   "metadata": {},
   "source": [
    "## Cleaning and Pre-Analysis\n",
    "#TODO: GOAL/ASSISTS PER GAME PERCENTAGES/RATES"
   ]
  },
  {
   "cell_type": "code",
   "execution_count": 100,
   "metadata": {},
   "outputs": [],
   "source": [
    "def combination(start_year, end_year):\n",
    "    \"\"\"\n",
    "    Combines the nwsl.csv and position.csv csvs for each\n",
    "    year in the given range ad\n",
    "    \n",
    "    :parameters:\n",
    "    start_year - integer indicating start year of data\n",
    "    end_year - integer indicating end year of data\n",
    "    \"\"\"\n",
    "    for i in range(start_year, end_year + 1):\n",
    "        nwsl_file = 'nwsl{}.csv'.format(i)\n",
    "        position_file = 'position{}.csv'.format(i)\n",
    "\n",
    "        nwsl = pd.read_csv(os.path.join('data', 'nwsl', nwsl_file))\n",
    "        position = pd.read_csv(os.path.join('data', 'position', position_file))\n",
    "        df = nwsl.merge(position, left_on='Player Name',\n",
    "                            right_on='Player', how = 'left').drop('Player', axis = 1)\n",
    "\n",
    "        name = 'full{}.csv'.format(i)\n",
    "        path = os.path.join('data', 'full', name)\n",
    "\n",
    "        df.to_csv(path, index=False)"
   ]
  },
  {
   "cell_type": "code",
   "execution_count": 101,
   "metadata": {},
   "outputs": [],
   "source": [
    "#run to join all of the nwsl/position csvs for reference/later use\n",
    "combination(2016, 2019)"
   ]
  },
  {
   "cell_type": "code",
   "execution_count": 102,
   "metadata": {},
   "outputs": [
    {
     "data": {
      "text/plain": [
       "['data/nwsl/nwsl2016.csv',\n",
       " 'data/nwsl/nwsl2017.csv',\n",
       " 'data/nwsl/nwsl2018.csv',\n",
       " 'data/nwsl/nwsl2019.csv']"
      ]
     },
     "execution_count": 102,
     "metadata": {},
     "output_type": "execute_result"
    }
   ],
   "source": [
    "#getting all of the full.csv files in the subdirectory\n",
    "file_path = os.path.join('data', 'nwsl')\n",
    "csvs = os.listdir(path = file_path)\n",
    "files = []\n",
    "#for loop to get all the full.csv paths\n",
    "for file in csvs:\n",
    "    fp = os.path.join(file_path, file)\n",
    "    files.append(fp)\n",
    "#for organization purposes later\n",
    "files.sort()\n",
    "files\n",
    "#use nwsl.files, full for with prediction later"
   ]
  },
  {
   "cell_type": "code",
   "execution_count": 103,
   "metadata": {},
   "outputs": [],
   "source": [
    "nwsl_2016 = pd.read_csv(files[0])\n",
    "nwsl_2017 = pd.read_csv(files[1])\n",
    "nwsl_2018 = pd.read_csv(files[2])\n",
    "nwsl_2019 = pd.read_csv(files[3]) #Training\n",
    "all_nwsl = [nwsl_2016, nwsl_2017, nwsl_2018, nwsl_2019]"
   ]
  },
  {
   "cell_type": "code",
   "execution_count": 104,
   "metadata": {},
   "outputs": [],
   "source": [
    "#Using the combined 2019 data as training since it has all position\n",
    "training_fp = file_path = os.path.join('data', 'full', 'full2019.csv')\n",
    "training_data = pd.read_csv(training_fp)"
   ]
  },
  {
   "cell_type": "code",
   "execution_count": 105,
   "metadata": {},
   "outputs": [],
   "source": [
    "def calculate_stats(df):\n",
    "    \"\"\"\n",
    "    Calculates Goals per Game, Assists per Game, Shots per Game, \n",
    "    Proportion of Shots on Goal per Goal, Proportion of Shots on Goal, \n",
    "    and Proportion of Successful Penalty Kicks, for each player \n",
    "    in the dataset. Creates columns for these values in each dataframe.\n",
    "    \n",
    "    :parameters:\n",
    "    df - dataframe like nwsl.csv/full.csv with neceesary columns\n",
    "    \"\"\"\n",
    "    #calculating stats, self explanatory column names\n",
    "    df['Goals per Game'] = df['Goals']/df['Games Played']\n",
    "    df['Assists per Game'] = df['Assists']/df['Games Played']\n",
    "    df['Shots per Game'] = df['Shots']/df['Games Played']\n",
    "    df['Prop SoG'] = df['Shots on Goal']/df['Shots']\n",
    "    df['Shots per Goal'] = df['Goals']/df['Shots on Goal']\n",
    "    df['Prop Penalty'] = df['Penalty Kick Goals']/df['Penalty Kicks Attempted']\n",
    "    \n",
    "    int_cols = df.columns[2:].tolist()\n",
    "    for each in int_cols:\n",
    "        df[each] = df[each].astype(float)\n",
    "    \n",
    "    #May create a classifer for Position later, leaving nulls in this column\n",
    "    nonPos = df.loc[:, ~df.columns.isin(['Position'])].columns.tolist()\n",
    "    df[nonPos] = df[nonPos].fillna(0)"
   ]
  },
  {
   "cell_type": "code",
   "execution_count": 106,
   "metadata": {},
   "outputs": [],
   "source": [
    "#apply above function to all dataframes in the list\n",
    "for each in all_nwsl:\n",
    "    calculate_stats(each)"
   ]
  },
  {
   "cell_type": "markdown",
   "metadata": {},
   "source": [
    "## Missingness"
   ]
  },
  {
   "cell_type": "markdown",
   "metadata": {},
   "source": [
    "#NOTE: MISSINGNESS FOR POSITION DATA: SOME TEAMS DON'T POST THEIR FULL OLDER ROSTER IE CRS 2016 ONLY HAD 5 PLAYERS\n",
    "#PLAYER POSITION MISSINGNESS: SOME PLAYERS ARE TEMPS/HIRES AND NOT FULLY CONTRACTED or TRADES/IF A PLAYER TRADED TEAMS THEN THEIR OLD TEAM DISCARDS THEIR DATA"
   ]
  },
  {
   "cell_type": "markdown",
   "metadata": {},
   "source": [
    "## Visualizations"
   ]
  },
  {
   "cell_type": "markdown",
   "metadata": {},
   "source": [
    "## Analysis"
   ]
  },
  {
   "cell_type": "code",
   "execution_count": 10,
   "metadata": {},
   "outputs": [],
   "source": [
    "#get the positions of each player, predict what position they play based on goals/assists/etc."
   ]
  },
  {
   "cell_type": "markdown",
   "metadata": {},
   "source": [
    "## Prediction Model"
   ]
  },
  {
   "cell_type": "code",
   "execution_count": 11,
   "metadata": {},
   "outputs": [],
   "source": [
    "from sklearn.pipeline import Pipeline\n",
    "from sklearn.preprocessing import OneHotEncoder\n",
    "from sklearn.preprocessing import StandardScaler\n",
    "\n",
    "from sklearn.ensemble import RandomForestClassifier\n",
    "from sklearn.naive_bayes import GaussianNB\n",
    "from sklearn.model_selection import train_test_split\n",
    "from sklearn.neighbors import KNeighborsClassifier\n",
    "from sklearn.metrics import accuracy_score"
   ]
  },
  {
   "cell_type": "code",
   "execution_count": null,
   "metadata": {},
   "outputs": [],
   "source": [
    "#TODO: CREATE FEATURES FOR PREDICTION"
   ]
  },
  {
   "cell_type": "code",
   "execution_count": 12,
   "metadata": {},
   "outputs": [
    {
     "data": {
      "text/plain": [
       "[('kNN', 0.4084507042253521),\n",
       " ('bayes', 0.5492957746478874),\n",
       " ('forest', 0.4788732394366197)]"
      ]
     },
     "execution_count": 12,
     "metadata": {},
     "output_type": "execute_result"
    }
   ],
   "source": [
    "#NOTE: nwsl_2019 has positions for all players due to its role as\n",
    "#most recent data on the league\n",
    "\n",
    "y = nwsl_2019['Position']\n",
    "features = nwsl_2019.drop(['Position', 'Team', 'Player Name'], axis=1)\n",
    "#put in a column transformer and onehotencode by team\n",
    "\n",
    "encoder = StandardScaler()\n",
    "X = encoder.fit_transform(features, y)\n",
    "\n",
    "X_train, X_test, y_train, y_test = train_test_split(X, y, test_size=0.33)\n",
    "\n",
    "neighbors = KNeighborsClassifier()\n",
    "neighbors.fit(X_train, y_train)\n",
    "neigh_pred = neighbors.predict(X_test)\n",
    "neigh_f1 = accuracy_score(y_true=y_test, y_pred=neigh_pred)\n",
    "\n",
    "bayesian = GaussianNB()\n",
    "bayesian.fit(X_train, y_train)\n",
    "bay_pred = bayesian.predict(X_test)\n",
    "bay_f1 = accuracy_score(y_true=y_test, y_pred=bay_pred)\n",
    "\n",
    "forest = RandomForestClassifier(n_estimators=100, max_depth=3,\n",
    "                                min_samples_split=20, min_samples_leaf=10)\n",
    "forest.fit(X_train, y_train)\n",
    "forest_pred = forest.predict(X_test)\n",
    "forest_f1 = accuracy_score(y_true=y_test, y_pred=forest_pred)\n",
    "values = ([('kNN', neigh_f1), ('bayes', bay_f1), ('forest', forest_f1)])\n",
    "values"
   ]
  },
  {
   "cell_type": "code",
   "execution_count": null,
   "metadata": {},
   "outputs": [],
   "source": []
  }
 ],
 "metadata": {
  "kernelspec": {
   "display_name": "Python 3",
   "language": "python",
   "name": "python3"
  },
  "language_info": {
   "codemirror_mode": {
    "name": "ipython",
    "version": 3
   },
   "file_extension": ".py",
   "mimetype": "text/x-python",
   "name": "python",
   "nbconvert_exporter": "python",
   "pygments_lexer": "ipython3",
   "version": "3.7.3"
  },
  "toc": {
   "base_numbering": 1,
   "nav_menu": {},
   "number_sections": false,
   "sideBar": false,
   "skip_h1_title": false,
   "title_cell": "Table of Contents",
   "title_sidebar": "Contents",
   "toc_cell": false,
   "toc_position": {},
   "toc_section_display": false,
   "toc_window_display": false
  }
 },
 "nbformat": 4,
 "nbformat_minor": 2
}
