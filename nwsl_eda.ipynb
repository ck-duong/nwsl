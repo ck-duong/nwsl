{
 "cells": [
  {
   "cell_type": "markdown",
   "metadata": {},
   "source": [
    "# NWSL Exploratory Data Analysis"
   ]
  },
  {
   "cell_type": "markdown",
   "metadata": {},
   "source": [
    "## Overview\n",
    "The National Women's Soccer League (NWSL) is the premier professional women's soccer league in the United States. In this repository, I will be scraping player and team data, from the NWSL website (www.nwslsoccer.com) and performing exploratory data analysis on the collected data."
   ]
  },
  {
   "cell_type": "code",
   "execution_count": 1,
   "metadata": {},
   "outputs": [],
   "source": [
    "#necessary imports to run the code\n",
    "import requests\n",
    "from bs4 import BeautifulSoup\n",
    "import pandas as pd\n",
    "import numpy as np\n",
    "import os"
   ]
  },
  {
   "cell_type": "code",
   "execution_count": 241,
   "metadata": {},
   "outputs": [
    {
     "data": {
      "text/html": [
       "        <script type=\"text/javascript\">\n",
       "        window.PlotlyConfig = {MathJaxConfig: 'local'};\n",
       "        if (window.MathJax) {MathJax.Hub.Config({SVG: {font: \"STIX-Web\"}});}\n",
       "        if (typeof require !== 'undefined') {\n",
       "        require.undef(\"plotly\");\n",
       "        requirejs.config({\n",
       "            paths: {\n",
       "                'plotly': ['https://cdn.plot.ly/plotly-latest.min']\n",
       "            }\n",
       "        });\n",
       "        require(['plotly'], function(Plotly) {\n",
       "            window._Plotly = Plotly;\n",
       "        });\n",
       "        }\n",
       "        </script>\n",
       "        "
      ]
     },
     "metadata": {},
     "output_type": "display_data"
    },
    {
     "data": {
      "text/html": [
       "        <script type=\"text/javascript\">\n",
       "        window.PlotlyConfig = {MathJaxConfig: 'local'};\n",
       "        if (window.MathJax) {MathJax.Hub.Config({SVG: {font: \"STIX-Web\"}});}\n",
       "        if (typeof require !== 'undefined') {\n",
       "        require.undef(\"plotly\");\n",
       "        requirejs.config({\n",
       "            paths: {\n",
       "                'plotly': ['https://cdn.plot.ly/plotly-latest.min']\n",
       "            }\n",
       "        });\n",
       "        require(['plotly'], function(Plotly) {\n",
       "            window._Plotly = Plotly;\n",
       "        });\n",
       "        }\n",
       "        </script>\n",
       "        "
      ]
     },
     "metadata": {},
     "output_type": "display_data"
    }
   ],
   "source": [
    "#imports for data visualization\n",
    "import seaborn as sns\n",
    "import matplotlib.pyplot as plt\n",
    "import plotly.plotly as py\n",
    "import plotly.graph_objs as go\n",
    "from plotly.offline import download_plotlyjs, init_notebook_mode, plot, iplot\n",
    "import plotly\n",
    "import cufflinks as cf\n",
    "\n",
    "#for offline plotting\n",
    "plotly.offline.init_notebook_mode(connected=True)\n",
    "cf.set_config_file(offline=True, world_readable=True, theme='ggplot')"
   ]
  },
  {
   "cell_type": "code",
   "execution_count": 3,
   "metadata": {},
   "outputs": [],
   "source": [
    "%load_ext autoreload\n",
    "%autoreload 2"
   ]
  },
  {
   "cell_type": "markdown",
   "metadata": {},
   "source": [
    "## Scraping\n",
    "In the subdirectory \"scraping\", there are three Python files written to scrape data from the official NWSL website: statscrape.py, teamscrape.py, and standingscrape.py. \n",
    "\n",
    "The statscrape.py file scrapes player data from the Stats page of the website for each player in the league from 2016 through 2019 (each of the years the league has made player/team stats publically available) and compiles them into csv files by year, entitled \"nwsl{}.csv\" for each year. \n",
    "\n",
    "The teamscrape.py file scrapes player data from the Team pages of the website for each team for each year the team has existed and compiles them into csv files by year, entitled \"position{}.csv\" for each year.\n",
    "\n",
    "The standingscrape.py file scrapes team data from the Standings pages of the website for each team for each year the league has provided public stats (2016 - 2019) and compiles them into csv files by year, entitled \"standings{}.csv\" for each year. Additionally, this file also formats the dataframes into more user-readable and more usable data by seperating the scraped Home and Away game data into seperate columns based on location (Home or Away) and game result (Win, Loss, Tie).\n",
    "\n",
    "In the following cell of code, I run these two files to create the csvs I will be working with in the rest of this notebook. Currently they are commented out since they only need to be run once to collect our data. However, I will note that the 2019 NWSL season is currently taking place, meaning that rerunning these files will get us the most up to date data. \n",
    "\n",
    "For this analysis, I will only be looking at the April and May statistics for the 2019 season, although my code will be able to work with future data as well since it will all be formatted in the same way. It is also worth nothing that as of June 2019, many NWSL teams are missing players who also serve on their national team (such as the USWNT, CANWNT, etc) due to the Women's World Cup occuring this summer."
   ]
  },
  {
   "cell_type": "code",
   "execution_count": 125,
   "metadata": {},
   "outputs": [],
   "source": [
    "#py files to run to scrape the data from the NWSL page. Only need to run once.\n",
    "#uncomment the following lines the first time you're running through this notebook\n",
    "\n",
    "#!python ./scraping/statscrape.py\n",
    "#!python ./scraping/teamscrape.py\n",
    "!python ./scraping/standingscrape.py"
   ]
  },
  {
   "cell_type": "markdown",
   "metadata": {},
   "source": [
    "## Cleaning and Pre-Analysis\n",
    "This section of the notebook includes reading in the raw data and applying some basic cleaning to make the data easier to work with.\n",
    "\n",
    "Some cleaning/pre-analysis strategies I used were:\n",
    "\n",
    "- Combining the nwsl{}.csv and position{}.csv files into full{}.csv files so I could access both player stats and position.\n",
    "- Creating \"Goals per Game\", \"Assists per Game\", \"Shots per Game\", \"Proportion of Shots on Goal per Goal\", and \"Proportion of Shots on Goal\", for each player in the dataset\n",
    "- Combining all full{}.csv dataframes into a larger dataframe with data from all years named `nwsl`\n",
    "- Combining all standings{}.csv dataframes into a larger dataframe with data from all years named `standings`\n",
    "- Getting the ranks for each team throughout the years and combining them into one dataframe"
   ]
  },
  {
   "cell_type": "code",
   "execution_count": 126,
   "metadata": {},
   "outputs": [],
   "source": [
    "def combination(start_year, end_year):\n",
    "    \"\"\"\n",
    "    Combines the nwsl.csv and position.csv csvs for each\n",
    "    year in the given range ad\n",
    "    \n",
    "    :parameters:\n",
    "    start_year - integer indicating start year of data\n",
    "    end_year - integer indicating end year of data\n",
    "    \"\"\"\n",
    "    for i in range(start_year, end_year + 1):\n",
    "        nwsl_file = 'nwsl{}.csv'.format(i)\n",
    "        position_file = 'position{}.csv'.format(i)\n",
    "\n",
    "        nwsl = pd.read_csv(os.path.join('data', 'nwsl', nwsl_file))\n",
    "        position = pd.read_csv(os.path.join('data', 'position', position_file))\n",
    "        df = nwsl.merge(position, left_on='Player Name',\n",
    "                            right_on='Player', how = 'left').drop('Player', axis = 1)\n",
    "\n",
    "        name = 'full{}.csv'.format(i)\n",
    "        path = os.path.join('data', 'full', name)\n",
    "\n",
    "        df.to_csv(path, index=False)"
   ]
  },
  {
   "cell_type": "code",
   "execution_count": 127,
   "metadata": {},
   "outputs": [],
   "source": [
    "#run to join all of the nwsl/position csvs\n",
    "combination(2016, 2019)"
   ]
  },
  {
   "cell_type": "code",
   "execution_count": 128,
   "metadata": {},
   "outputs": [],
   "source": [
    "#getting all of the full.csv files in the subdirectory\n",
    "file_path = os.path.join('data', 'full')\n",
    "csvs = os.listdir(path = file_path)\n",
    "files = []\n",
    "#for loop to get all the full.csv paths\n",
    "for file in csvs:\n",
    "    fp = os.path.join(file_path, file)\n",
    "    files.append(fp)\n",
    "#for organization purposes later\n",
    "files.sort()"
   ]
  },
  {
   "cell_type": "code",
   "execution_count": 129,
   "metadata": {},
   "outputs": [],
   "source": [
    "#reading all the files from the subdirectory\n",
    "nwsl_2016 = pd.read_csv(files[0])\n",
    "\n",
    "nwsl_2017 = pd.read_csv(files[1])\n",
    "\n",
    "nwsl_2018 = pd.read_csv(files[2])\n",
    "\n",
    "nwsl_2019 = pd.read_csv(files[3])\n",
    "\n",
    "#compiling all the dataframes into a list for later\n",
    "all_nwsl = [nwsl_2016, nwsl_2017, nwsl_2018, nwsl_2019]"
   ]
  },
  {
   "cell_type": "code",
   "execution_count": 130,
   "metadata": {},
   "outputs": [],
   "source": [
    "def calculate_stats(df):\n",
    "    \"\"\"\n",
    "    Calculates Goals per Game, Assists per Game, Shots per Game, \n",
    "    Proportion of Shots on Goal per Goal, and Proportion of Shots on\n",
    "    Goal, for each player in the dataset. Creates columns for these \n",
    "    values in each dataframe.\n",
    "    \n",
    "    :parameters:\n",
    "    df - dataframe like nwsl.csv/full.csv with neceesary columns\n",
    "    \"\"\"\n",
    "    #calculating stats, self explanatory column names\n",
    "    df['Goals per Game'] = df['Goals']/df['Games Played']\n",
    "    df['Assists per Game'] = df['Assists']/df['Games Played']\n",
    "    df['Shots per Game'] = df['Shots']/df['Games Played']\n",
    "    df['Prop SoG'] = df['Shots on Goal']/df['Shots']\n",
    "    df['Shots per Goal'] = df['Goals']/df['Shots on Goal']\n",
    "    \n",
    "    int_cols = df.columns[2:].tolist()\n",
    "    int_cols.remove('Position')\n",
    "    for each in int_cols:\n",
    "        df[each] = df[each].astype(float)\n",
    "    \n",
    "    #May create a classifer for Position later, leaving nulls in this column\n",
    "    nonPos = df.loc[:, ~df.columns.isin(['Position'])].columns.tolist()\n",
    "    df[nonPos] = df[nonPos].fillna(0)"
   ]
  },
  {
   "cell_type": "code",
   "execution_count": 131,
   "metadata": {},
   "outputs": [],
   "source": [
    "#apply above function to all dataframes in the list\n",
    "for each in all_nwsl:\n",
    "    calculate_stats(each)"
   ]
  },
  {
   "cell_type": "code",
   "execution_count": 132,
   "metadata": {},
   "outputs": [],
   "source": [
    "nwsl = pd.DataFrame(columns = nwsl_2019.columns)\n",
    "for each in all_nwsl:\n",
    "    nwsl = pd.concat([nwsl, each])\n",
    "#nwsl is the combined data for all years"
   ]
  },
  {
   "cell_type": "code",
   "execution_count": 133,
   "metadata": {},
   "outputs": [],
   "source": [
    "#getting all of the full.csv files in the subdirectory\n",
    "standings_path = os.path.join('data', 'standings')\n",
    "standings_csvs = os.listdir(path = standings_path)\n",
    "standings_files = []\n",
    "#for loop to get all the full.csv paths\n",
    "for file in standings_csvs:\n",
    "    fp = os.path.join(standings_path, file)\n",
    "    standings_files.append(fp)\n",
    "#for organization purposes later\n",
    "standings_files.sort()"
   ]
  },
  {
   "cell_type": "code",
   "execution_count": 134,
   "metadata": {},
   "outputs": [],
   "source": [
    "#reading all the files from the subdirectory\n",
    "#adding a \"season\" column so we can combine the full dataframes\n",
    "#and still be able to differentiate between seasons\n",
    "standings_2016 = pd.read_csv(standings_files[0])\n",
    "\n",
    "standings_2017 = pd.read_csv(standings_files[1])\n",
    "\n",
    "standings_2018 = pd.read_csv(standings_files[2])\n",
    "\n",
    "standings_2019 = pd.read_csv(standings_files[3])\n",
    "\n",
    "all_standings = [standings_2016, standings_2017, standings_2018, standings_2019]"
   ]
  },
  {
   "cell_type": "code",
   "execution_count": 160,
   "metadata": {},
   "outputs": [],
   "source": [
    "standings = pd.DataFrame()\n",
    "for each in all_standings:\n",
    "    standings = pd.concat([standings, each])\n",
    "#standings is the combined standings data for all years"
   ]
  },
  {
   "cell_type": "code",
   "execution_count": null,
   "metadata": {},
   "outputs": [],
   "source": [
    "def get_ranks():\n",
    "     \"\"\"\n",
    "    Creates a dataframe of team rankings by season/year\n",
    "    \n",
    "    :returns:\n",
    "    rankings - dataframe with team names as columns, years as index,\n",
    "    and ranking of the team that year as the value\n",
    "    \"\"\"\n",
    "    teams = standings['Team'].sort_values().unique()\n",
    "    ranks = pd.DataFrame()\n",
    "    for team in teams:\n",
    "        team_rank = []\n",
    "        for year in all_standings:\n",
    "            rank = year.loc[year['Team'] == team]['Rank'].values\n",
    "            if len(rank):\n",
    "                team_rank.append(rank[0])\n",
    "            else:\n",
    "                team_rank.append(np.nan)\n",
    "        ranks[team] = team_rank\n",
    "        ranks = ranks.set_index(np.arange(2016, 2020))\n",
    "    return rankings"
   ]
  },
  {
   "cell_type": "markdown",
   "metadata": {},
   "source": [
    "## Missingness"
   ]
  },
  {
   "cell_type": "markdown",
   "metadata": {},
   "source": [
    "#NOTE: MISSINGNESS FOR POSITION DATA: SOME TEAMS DON'T POST THEIR FULL OLDER ROSTER IE CRS 2016 ONLY HAD 5 PLAYERS\n",
    "#PLAYER POSITION MISSINGNESS: SOME PLAYERS ARE TEMPS/HIRES AND NOT FULLY CONTRACTED or TRADES/IF A PLAYER TRADED TEAMS THEN THEIR OLD TEAM DISCARDS THEIR DATA"
   ]
  },
  {
   "cell_type": "code",
   "execution_count": 304,
   "metadata": {},
   "outputs": [],
   "source": [
    "null_cols = nwsl.columns[nwsl.isnull().any()]\n",
    "data_nulls = nwsl[nwsl.isnull().any(axis=1)] #get the rows that have nulls"
   ]
  },
  {
   "cell_type": "markdown",
   "metadata": {},
   "source": [
    "## Visualizations"
   ]
  },
  {
   "cell_type": "code",
   "execution_count": 242,
   "metadata": {},
   "outputs": [
    {
     "data": {
      "application/vnd.plotly.v1+json": {
       "config": {
        "linkText": "Export to plot.ly",
        "plotlyServerURL": "https://plot.ly",
        "showLink": true
       },
       "data": [
        {
         "marker": {
          "color": "rgba(226, 74, 51, 0.6)",
          "line": {
           "color": "rgba(226, 74, 51, 1.0)",
           "width": 1
          }
         },
         "name": "2016.0",
         "orientation": "v",
         "text": "",
         "type": "bar",
         "uid": "9fc76d2c-1b6a-4d4e-bf95-dd2a4687e6ec",
         "x": [
          "BOS",
          "CHI",
          "HOU",
          "KC",
          "NC",
          "NJ",
          "ORL",
          "POR",
          "SEA",
          "UTA",
          "WAS",
          "WNY"
         ],
         "y": [
          0.7,
          1.15,
          1.16,
          0.9,
          "",
          1.0952380952380953,
          0.7727272727272727,
          1.4166666666666667,
          1.45,
          "",
          1.5,
          1.9090909090909092
         ]
        },
        {
         "marker": {
          "color": "rgba(62, 111, 176, 0.6)",
          "line": {
           "color": "rgba(62, 111, 176, 1.0)",
           "width": 1
          }
         },
         "name": "2017.0",
         "orientation": "v",
         "text": "",
         "type": "bar",
         "uid": "8112a043-a6f8-4926-b754-958a97fd030f",
         "x": [
          "BOS",
          "CHI",
          "HOU",
          "KC",
          "NC",
          "NJ",
          "ORL",
          "POR",
          "SEA",
          "UTA",
          "WAS",
          "WNY"
         ],
         "y": [
          1.1578947368421053,
          1.7222222222222223,
          1.2777777777777777,
          1.6111111111111112,
          1.7619047619047619,
          2.1,
          2.25,
          1.5,
          2.4,
          "",
          1.25,
          ""
         ]
        },
        {
         "marker": {
          "color": "rgba(132, 118, 202, 0.6)",
          "line": {
           "color": "rgba(132, 118, 202, 1.0)",
           "width": 1
          }
         },
         "name": "2018.0",
         "orientation": "v",
         "text": "",
         "type": "bar",
         "uid": "9b8cf9ce-55c9-4da3-b750-7065c501d229",
         "x": [
          "BOS",
          "CHI",
          "HOU",
          "KC",
          "NC",
          "NJ",
          "ORL",
          "POR",
          "SEA",
          "UTA",
          "WAS",
          "WNY"
         ],
         "y": [
          "",
          1.5,
          1.7727272727272727,
          "",
          2.08,
          0.8076923076923077,
          1.3043478260869565,
          1.8181818181818181,
          1.2857142857142858,
          0.9523809523809523,
          0.4444444444444444,
          ""
         ]
        },
        {
         "marker": {
          "color": "rgba(101, 101, 101, 0.6)",
          "line": {
           "color": "rgba(101, 101, 101, 1.0)",
           "width": 1
          }
         },
         "name": "2019.0",
         "orientation": "v",
         "text": "",
         "type": "bar",
         "uid": "29636374-3a33-42cd-be0d-4c9aa6e6cd92",
         "x": [
          "BOS",
          "CHI",
          "HOU",
          "KC",
          "NC",
          "NJ",
          "ORL",
          "POR",
          "SEA",
          "UTA",
          "WAS",
          "WNY"
         ],
         "y": [
          "",
          0.5909090909090909,
          0.32,
          "",
          0.7272727272727273,
          0.22727272727272727,
          0.08,
          0.64,
          0.2857142857142857,
          0.2916666666666667,
          0.45454545454545453,
          ""
         ]
        }
       ],
       "layout": {
        "legend": {
         "bgcolor": "#FFFFFF",
         "font": {
          "color": "#666666"
         }
        },
        "paper_bgcolor": "#FFFFFF",
        "plot_bgcolor": "#E5E5E5",
        "title": {
         "font": {
          "color": "#151516"
         },
         "text": "Total Goals by Team by Season (Year)"
        },
        "xaxis": {
         "gridcolor": "#F6F6F6",
         "showgrid": true,
         "tickfont": {
          "color": "#666666"
         },
         "title": {
          "font": {
           "color": "#666666"
          },
          "text": ""
         },
         "zerolinecolor": "#F6F6F6"
        },
        "yaxis": {
         "gridcolor": "#F6F6F6",
         "showgrid": true,
         "tickfont": {
          "color": "#666666"
         },
         "title": {
          "font": {
           "color": "#666666"
          },
          "text": ""
         },
         "zerolinecolor": "#F6F6F6"
        }
       }
      },
      "text/html": [
       "<div>\n",
       "        \n",
       "        \n",
       "            <div id=\"508be0ee-b208-4071-8b90-0bea6b0c8d50\" class=\"plotly-graph-div\" style=\"height:525px; width:100%;\"></div>\n",
       "            <script type=\"text/javascript\">\n",
       "                require([\"plotly\"], function(Plotly) {\n",
       "                    window.PLOTLYENV=window.PLOTLYENV || {};\n",
       "                    window.PLOTLYENV.BASE_URL='https://plot.ly';\n",
       "                    \n",
       "                if (document.getElementById(\"508be0ee-b208-4071-8b90-0bea6b0c8d50\")) {\n",
       "                    Plotly.newPlot(\n",
       "                        '508be0ee-b208-4071-8b90-0bea6b0c8d50',\n",
       "                        [{\"marker\": {\"color\": \"rgba(226, 74, 51, 0.6)\", \"line\": {\"color\": \"rgba(226, 74, 51, 1.0)\", \"width\": 1}}, \"name\": \"2016.0\", \"orientation\": \"v\", \"text\": \"\", \"type\": \"bar\", \"uid\": \"9fc76d2c-1b6a-4d4e-bf95-dd2a4687e6ec\", \"x\": [\"BOS\", \"CHI\", \"HOU\", \"KC\", \"NC\", \"NJ\", \"ORL\", \"POR\", \"SEA\", \"UTA\", \"WAS\", \"WNY\"], \"y\": [0.7, 1.15, 1.16, 0.9, \"\", 1.0952380952380953, 0.7727272727272727, 1.4166666666666667, 1.45, \"\", 1.5, 1.9090909090909092]}, {\"marker\": {\"color\": \"rgba(62, 111, 176, 0.6)\", \"line\": {\"color\": \"rgba(62, 111, 176, 1.0)\", \"width\": 1}}, \"name\": \"2017.0\", \"orientation\": \"v\", \"text\": \"\", \"type\": \"bar\", \"uid\": \"8112a043-a6f8-4926-b754-958a97fd030f\", \"x\": [\"BOS\", \"CHI\", \"HOU\", \"KC\", \"NC\", \"NJ\", \"ORL\", \"POR\", \"SEA\", \"UTA\", \"WAS\", \"WNY\"], \"y\": [1.1578947368421053, 1.7222222222222223, 1.2777777777777777, 1.6111111111111112, 1.7619047619047619, 2.1, 2.25, 1.5, 2.4, \"\", 1.25, \"\"]}, {\"marker\": {\"color\": \"rgba(132, 118, 202, 0.6)\", \"line\": {\"color\": \"rgba(132, 118, 202, 1.0)\", \"width\": 1}}, \"name\": \"2018.0\", \"orientation\": \"v\", \"text\": \"\", \"type\": \"bar\", \"uid\": \"9b8cf9ce-55c9-4da3-b750-7065c501d229\", \"x\": [\"BOS\", \"CHI\", \"HOU\", \"KC\", \"NC\", \"NJ\", \"ORL\", \"POR\", \"SEA\", \"UTA\", \"WAS\", \"WNY\"], \"y\": [\"\", 1.5, 1.7727272727272727, \"\", 2.08, 0.8076923076923077, 1.3043478260869565, 1.8181818181818181, 1.2857142857142858, 0.9523809523809523, 0.4444444444444444, \"\"]}, {\"marker\": {\"color\": \"rgba(101, 101, 101, 0.6)\", \"line\": {\"color\": \"rgba(101, 101, 101, 1.0)\", \"width\": 1}}, \"name\": \"2019.0\", \"orientation\": \"v\", \"text\": \"\", \"type\": \"bar\", \"uid\": \"29636374-3a33-42cd-be0d-4c9aa6e6cd92\", \"x\": [\"BOS\", \"CHI\", \"HOU\", \"KC\", \"NC\", \"NJ\", \"ORL\", \"POR\", \"SEA\", \"UTA\", \"WAS\", \"WNY\"], \"y\": [\"\", 0.5909090909090909, 0.32, \"\", 0.7272727272727273, 0.22727272727272727, 0.08, 0.64, 0.2857142857142857, 0.2916666666666667, 0.45454545454545453, \"\"]}],\n",
       "                        {\"legend\": {\"bgcolor\": \"#FFFFFF\", \"font\": {\"color\": \"#666666\"}}, \"paper_bgcolor\": \"#FFFFFF\", \"plot_bgcolor\": \"#E5E5E5\", \"title\": {\"font\": {\"color\": \"#151516\"}, \"text\": \"Total Goals by Team by Season (Year)\"}, \"xaxis\": {\"gridcolor\": \"#F6F6F6\", \"showgrid\": true, \"tickfont\": {\"color\": \"#666666\"}, \"title\": {\"font\": {\"color\": \"#666666\"}, \"text\": \"\"}, \"zerolinecolor\": \"#F6F6F6\"}, \"yaxis\": {\"gridcolor\": \"#F6F6F6\", \"showgrid\": true, \"tickfont\": {\"color\": \"#666666\"}, \"title\": {\"font\": {\"color\": \"#666666\"}, \"text\": \"\"}, \"zerolinecolor\": \"#F6F6F6\"}},\n",
       "                        {\"showLink\": true, \"linkText\": \"Export to plot.ly\", \"plotlyServerURL\": \"https://plot.ly\", \"responsive\": true}\n",
       "                    ).then(function(){\n",
       "                            \n",
       "var gd = document.getElementById('508be0ee-b208-4071-8b90-0bea6b0c8d50');\n",
       "var x = new MutationObserver(function (mutations, observer) {{\n",
       "        var display = window.getComputedStyle(gd).display;\n",
       "        if (!display || display === 'none') {{\n",
       "            console.log([gd, 'removed!']);\n",
       "            Plotly.purge(gd);\n",
       "            observer.disconnect();\n",
       "        }}\n",
       "}});\n",
       "\n",
       "// Listen for the removal of the full notebook cells\n",
       "var notebookContainer = gd.closest('#notebook-container');\n",
       "if (notebookContainer) {{\n",
       "    x.observe(notebookContainer, {childList: true});\n",
       "}}\n",
       "\n",
       "// Listen for the clearing of the current output cell\n",
       "var outputEl = gd.closest('.output');\n",
       "if (outputEl) {{\n",
       "    x.observe(outputEl, {childList: true});\n",
       "}}\n",
       "\n",
       "                        })\n",
       "                };\n",
       "                });\n",
       "            </script>\n",
       "        </div>"
      ]
     },
     "metadata": {},
     "output_type": "display_data"
    }
   ],
   "source": [
    "#this cell makes a bar graph of goals by team by season\n",
    "drop_cols = ['Games Played', 'Games Started', 'Minutes Played']\n",
    "goals = nwsl.drop(drop_cols, axis = 1).pivot_table(index = 'Team', columns = 'Season',\n",
    "                                                   values = 'Goals')\n",
    "goals.iplot(kind = 'bar', title = 'Total Goals by Team by Season (Year)')"
   ]
  },
  {
   "cell_type": "code",
   "execution_count": 260,
   "metadata": {},
   "outputs": [
    {
     "data": {
      "application/vnd.plotly.v1+json": {
       "config": {
        "linkText": "Export to plot.ly",
        "plotlyServerURL": "https://plot.ly",
        "showLink": false
       },
       "data": [
        {
         "line": {
          "color": "rgba(226, 74, 51, 1.0)",
          "dash": "solid",
          "shape": "linear",
          "width": 1.3
         },
         "mode": "lines",
         "name": "BOS",
         "text": "",
         "type": "scatter",
         "uid": "4cda1aed-a638-4317-83a1-59a95feeef89",
         "x": [
          2016,
          2017,
          2018,
          2019
         ],
         "y": [
          10,
          9,
          "",
          ""
         ]
        },
        {
         "line": {
          "color": "rgba(62, 111, 176, 1.0)",
          "dash": "solid",
          "shape": "linear",
          "width": 1.3
         },
         "mode": "lines",
         "name": "CHI",
         "text": "",
         "type": "scatter",
         "uid": "e3dffecc-9958-4c8a-b621-abdb7894306c",
         "x": [
          2016,
          2017,
          2018,
          2019
         ],
         "y": [
          3,
          4,
          4,
          5
         ]
        },
        {
         "line": {
          "color": "rgba(132, 118, 202, 1.0)",
          "dash": "solid",
          "shape": "linear",
          "width": 1.3
         },
         "mode": "lines",
         "name": "HOU",
         "text": "",
         "type": "scatter",
         "uid": "1e2fa333-4502-44b5-aad9-140838a93dd8",
         "x": [
          2016,
          2017,
          2018,
          2019
         ],
         "y": [
          8,
          8,
          6,
          6
         ]
        },
        {
         "line": {
          "color": "rgba(101, 101, 101, 1.0)",
          "dash": "solid",
          "shape": "linear",
          "width": 1.3
         },
         "mode": "lines",
         "name": "KC",
         "text": "",
         "type": "scatter",
         "uid": "508bf248-a724-4bce-9c0f-2a99c73cce21",
         "x": [
          2016,
          2017,
          2018,
          2019
         ],
         "y": [
          6,
          7,
          "",
          ""
         ]
        },
        {
         "line": {
          "color": "rgba(251, 193, 94, 1.0)",
          "dash": "solid",
          "shape": "linear",
          "width": 1.3
         },
         "mode": "lines",
         "name": "NC",
         "text": "",
         "type": "scatter",
         "uid": "283e29ce-3824-49c4-8aa3-af8caa768311",
         "x": [
          2016,
          2017,
          2018,
          2019
         ],
         "y": [
          "",
          1,
          1,
          4
         ]
        },
        {
         "line": {
          "color": "rgba(142, 186, 66, 1.0)",
          "dash": "solid",
          "shape": "linear",
          "width": 1.3
         },
         "mode": "lines",
         "name": "NJ",
         "text": "",
         "type": "scatter",
         "uid": "ce5c0173-3ff5-48d8-995f-0ab5633a64af",
         "x": [
          2016,
          2017,
          2018,
          2019
         ],
         "y": [
          7,
          6,
          9,
          8
         ]
        },
        {
         "line": {
          "color": "rgba(255, 181, 184, 1.0)",
          "dash": "solid",
          "shape": "linear",
          "width": 1.3
         },
         "mode": "lines",
         "name": "ORL",
         "text": "",
         "type": "scatter",
         "uid": "f9331f82-6098-4b63-8dc5-953770b81f02",
         "x": [
          2016,
          2017,
          2018,
          2019
         ],
         "y": [
          9,
          3,
          7,
          9
         ]
        },
        {
         "line": {
          "color": "rgba(255, 181, 184, 0.8999999999999999)",
          "dash": "solid",
          "shape": "linear",
          "width": 1.3
         },
         "mode": "lines",
         "name": "POR",
         "text": "",
         "type": "scatter",
         "uid": "45d64902-4efd-4560-914c-ce25cac3297c",
         "x": [
          2016,
          2017,
          2018,
          2019
         ],
         "y": [
          1,
          2,
          2,
          2
         ]
        },
        {
         "line": {
          "color": "rgba(226, 74, 51, 0.8999999999999999)",
          "dash": "solid",
          "shape": "linear",
          "width": 1.3
         },
         "mode": "lines",
         "name": "SEA",
         "text": "",
         "type": "scatter",
         "uid": "9f9c099f-9754-4318-90e9-2568431eef10",
         "x": [
          2016,
          2017,
          2018,
          2019
         ],
         "y": [
          5,
          5,
          3,
          7
         ]
        },
        {
         "line": {
          "color": "rgba(62, 111, 176, 0.8999999999999999)",
          "dash": "solid",
          "shape": "linear",
          "width": 1.3
         },
         "mode": "lines",
         "name": "UTA",
         "text": "",
         "type": "scatter",
         "uid": "62109f41-521d-428e-b34d-83285f449fa9",
         "x": [
          2016,
          2017,
          2018,
          2019
         ],
         "y": [
          "",
          "",
          5,
          3
         ]
        },
        {
         "line": {
          "color": "rgba(132, 118, 202, 0.8999999999999999)",
          "dash": "solid",
          "shape": "linear",
          "width": 1.3
         },
         "mode": "lines",
         "name": "WAS",
         "text": "",
         "type": "scatter",
         "uid": "966cfa5b-1db7-40dc-aa1f-74441747295a",
         "x": [
          2016,
          2017,
          2018,
          2019
         ],
         "y": [
          2,
          10,
          8,
          1
         ]
        },
        {
         "line": {
          "color": "rgba(101, 101, 101, 0.8999999999999999)",
          "dash": "solid",
          "shape": "linear",
          "width": 1.3
         },
         "mode": "lines",
         "name": "WNY",
         "text": "",
         "type": "scatter",
         "uid": "2ff5ae61-5a3a-40e1-9351-c1cdacc063a2",
         "x": [
          2016,
          2017,
          2018,
          2019
         ],
         "y": [
          4,
          "",
          "",
          ""
         ]
        }
       ],
       "layout": {
        "title": {
         "text": "Overall Team Ranking by Year"
        },
        "yaxis": {
         "autorange": "reversed"
        }
       }
      },
      "text/html": [
       "<div>\n",
       "        \n",
       "        \n",
       "            <div id=\"6f35f963-ace6-4a74-8f1f-966dcedf6838\" class=\"plotly-graph-div\" style=\"height:525px; width:100%;\"></div>\n",
       "            <script type=\"text/javascript\">\n",
       "                require([\"plotly\"], function(Plotly) {\n",
       "                    window.PLOTLYENV=window.PLOTLYENV || {};\n",
       "                    window.PLOTLYENV.BASE_URL='https://plot.ly';\n",
       "                    \n",
       "                if (document.getElementById(\"6f35f963-ace6-4a74-8f1f-966dcedf6838\")) {\n",
       "                    Plotly.newPlot(\n",
       "                        '6f35f963-ace6-4a74-8f1f-966dcedf6838',\n",
       "                        [{\"line\": {\"color\": \"rgba(226, 74, 51, 1.0)\", \"dash\": \"solid\", \"shape\": \"linear\", \"width\": 1.3}, \"mode\": \"lines\", \"name\": \"BOS\", \"text\": \"\", \"type\": \"scatter\", \"uid\": \"4cda1aed-a638-4317-83a1-59a95feeef89\", \"x\": [2016, 2017, 2018, 2019], \"y\": [10.0, 9.0, \"\", \"\"]}, {\"line\": {\"color\": \"rgba(62, 111, 176, 1.0)\", \"dash\": \"solid\", \"shape\": \"linear\", \"width\": 1.3}, \"mode\": \"lines\", \"name\": \"CHI\", \"text\": \"\", \"type\": \"scatter\", \"uid\": \"e3dffecc-9958-4c8a-b621-abdb7894306c\", \"x\": [2016, 2017, 2018, 2019], \"y\": [3, 4, 4, 5]}, {\"line\": {\"color\": \"rgba(132, 118, 202, 1.0)\", \"dash\": \"solid\", \"shape\": \"linear\", \"width\": 1.3}, \"mode\": \"lines\", \"name\": \"HOU\", \"text\": \"\", \"type\": \"scatter\", \"uid\": \"1e2fa333-4502-44b5-aad9-140838a93dd8\", \"x\": [2016, 2017, 2018, 2019], \"y\": [8, 8, 6, 6]}, {\"line\": {\"color\": \"rgba(101, 101, 101, 1.0)\", \"dash\": \"solid\", \"shape\": \"linear\", \"width\": 1.3}, \"mode\": \"lines\", \"name\": \"KC\", \"text\": \"\", \"type\": \"scatter\", \"uid\": \"508bf248-a724-4bce-9c0f-2a99c73cce21\", \"x\": [2016, 2017, 2018, 2019], \"y\": [6.0, 7.0, \"\", \"\"]}, {\"line\": {\"color\": \"rgba(251, 193, 94, 1.0)\", \"dash\": \"solid\", \"shape\": \"linear\", \"width\": 1.3}, \"mode\": \"lines\", \"name\": \"NC\", \"text\": \"\", \"type\": \"scatter\", \"uid\": \"283e29ce-3824-49c4-8aa3-af8caa768311\", \"x\": [2016, 2017, 2018, 2019], \"y\": [\"\", 1.0, 1.0, 4.0]}, {\"line\": {\"color\": \"rgba(142, 186, 66, 1.0)\", \"dash\": \"solid\", \"shape\": \"linear\", \"width\": 1.3}, \"mode\": \"lines\", \"name\": \"NJ\", \"text\": \"\", \"type\": \"scatter\", \"uid\": \"ce5c0173-3ff5-48d8-995f-0ab5633a64af\", \"x\": [2016, 2017, 2018, 2019], \"y\": [7, 6, 9, 8]}, {\"line\": {\"color\": \"rgba(255, 181, 184, 1.0)\", \"dash\": \"solid\", \"shape\": \"linear\", \"width\": 1.3}, \"mode\": \"lines\", \"name\": \"ORL\", \"text\": \"\", \"type\": \"scatter\", \"uid\": \"f9331f82-6098-4b63-8dc5-953770b81f02\", \"x\": [2016, 2017, 2018, 2019], \"y\": [9, 3, 7, 9]}, {\"line\": {\"color\": \"rgba(255, 181, 184, 0.8999999999999999)\", \"dash\": \"solid\", \"shape\": \"linear\", \"width\": 1.3}, \"mode\": \"lines\", \"name\": \"POR\", \"text\": \"\", \"type\": \"scatter\", \"uid\": \"45d64902-4efd-4560-914c-ce25cac3297c\", \"x\": [2016, 2017, 2018, 2019], \"y\": [1, 2, 2, 2]}, {\"line\": {\"color\": \"rgba(226, 74, 51, 0.8999999999999999)\", \"dash\": \"solid\", \"shape\": \"linear\", \"width\": 1.3}, \"mode\": \"lines\", \"name\": \"SEA\", \"text\": \"\", \"type\": \"scatter\", \"uid\": \"9f9c099f-9754-4318-90e9-2568431eef10\", \"x\": [2016, 2017, 2018, 2019], \"y\": [5, 5, 3, 7]}, {\"line\": {\"color\": \"rgba(62, 111, 176, 0.8999999999999999)\", \"dash\": \"solid\", \"shape\": \"linear\", \"width\": 1.3}, \"mode\": \"lines\", \"name\": \"UTA\", \"text\": \"\", \"type\": \"scatter\", \"uid\": \"62109f41-521d-428e-b34d-83285f449fa9\", \"x\": [2016, 2017, 2018, 2019], \"y\": [\"\", \"\", 5.0, 3.0]}, {\"line\": {\"color\": \"rgba(132, 118, 202, 0.8999999999999999)\", \"dash\": \"solid\", \"shape\": \"linear\", \"width\": 1.3}, \"mode\": \"lines\", \"name\": \"WAS\", \"text\": \"\", \"type\": \"scatter\", \"uid\": \"966cfa5b-1db7-40dc-aa1f-74441747295a\", \"x\": [2016, 2017, 2018, 2019], \"y\": [2, 10, 8, 1]}, {\"line\": {\"color\": \"rgba(101, 101, 101, 0.8999999999999999)\", \"dash\": \"solid\", \"shape\": \"linear\", \"width\": 1.3}, \"mode\": \"lines\", \"name\": \"WNY\", \"text\": \"\", \"type\": \"scatter\", \"uid\": \"2ff5ae61-5a3a-40e1-9351-c1cdacc063a2\", \"x\": [2016, 2017, 2018, 2019], \"y\": [4.0, \"\", \"\", \"\"]}],\n",
       "                        {\"title\": {\"text\": \"Overall Team Ranking by Year\"}, \"yaxis\": {\"autorange\": \"reversed\"}},\n",
       "                        {\"showLink\": false, \"linkText\": \"Export to plot.ly\", \"plotlyServerURL\": \"https://plot.ly\", \"responsive\": true}\n",
       "                    ).then(function(){\n",
       "                            \n",
       "var gd = document.getElementById('6f35f963-ace6-4a74-8f1f-966dcedf6838');\n",
       "var x = new MutationObserver(function (mutations, observer) {{\n",
       "        var display = window.getComputedStyle(gd).display;\n",
       "        if (!display || display === 'none') {{\n",
       "            console.log([gd, 'removed!']);\n",
       "            Plotly.purge(gd);\n",
       "            observer.disconnect();\n",
       "        }}\n",
       "}});\n",
       "\n",
       "// Listen for the removal of the full notebook cells\n",
       "var notebookContainer = gd.closest('#notebook-container');\n",
       "if (notebookContainer) {{\n",
       "    x.observe(notebookContainer, {childList: true});\n",
       "}}\n",
       "\n",
       "// Listen for the clearing of the current output cell\n",
       "var outputEl = gd.closest('.output');\n",
       "if (outputEl) {{\n",
       "    x.observe(outputEl, {childList: true});\n",
       "}}\n",
       "\n",
       "                        })\n",
       "                };\n",
       "                });\n",
       "            </script>\n",
       "        </div>"
      ]
     },
     "metadata": {},
     "output_type": "display_data"
    }
   ],
   "source": [
    "#this cell creates a line graph of the rankings of each team\n",
    "rankings = get_ranks()\n",
    "layout = go.Layout(\n",
    "    yaxis=dict(\n",
    "        autorange = 'reversed'\n",
    "    ),\n",
    "    title = 'Overall Team Ranking by Year'\n",
    ")\n",
    "\n",
    "fig = rankings.iplot(layout = layout, asFigure=True)\n",
    "plot_url = iplot(fig)\n",
    "plot_url"
   ]
  },
  {
   "cell_type": "code",
   "execution_count": 298,
   "metadata": {},
   "outputs": [
    {
     "data": {
      "application/vnd.plotly.v1+json": {
       "config": {
        "linkText": "Export to plot.ly",
        "plotlyServerURL": "https://plot.ly",
        "showLink": true
       },
       "data": [
        {
         "marker": {
          "color": "rgba(226, 74, 51, 0.6)",
          "line": {
           "color": "rgba(226, 74, 51, 1.0)",
           "width": 1
          }
         },
         "name": "2016",
         "orientation": "v",
         "text": "",
         "type": "bar",
         "uid": "fb9e3ee4-a3cf-4046-a6de-8809cc0194fd",
         "x": [
          "BOS",
          "CHI",
          "HOU",
          "KC",
          "NC",
          "NJ",
          "ORL",
          "POR",
          "SEA",
          "UTA",
          "WAS",
          "WNY"
         ],
         "y": [
          -33,
          4,
          0,
          -2,
          "",
          -6,
          -10,
          16,
          8,
          "",
          9,
          14
         ]
        },
        {
         "marker": {
          "color": "rgba(62, 111, 176, 0.6)",
          "line": {
           "color": "rgba(62, 111, 176, 1.0)",
           "width": 1
          }
         },
         "name": "2017",
         "orientation": "v",
         "text": "",
         "type": "bar",
         "uid": "4fcea88f-1dbe-4b2d-bded-20b7dd5c9718",
         "x": [
          "BOS",
          "CHI",
          "HOU",
          "KC",
          "NC",
          "NJ",
          "ORL",
          "POR",
          "SEA",
          "UTA",
          "WAS",
          "WNY"
         ],
         "y": [
          -11,
          3,
          -16,
          -2,
          16,
          -9,
          14,
          17,
          6,
          "",
          -18,
          ""
         ]
        },
        {
         "marker": {
          "color": "rgba(132, 118, 202, 0.6)",
          "line": {
           "color": "rgba(132, 118, 202, 1.0)",
           "width": 1
          }
         },
         "name": "2018",
         "orientation": "v",
         "text": "",
         "type": "bar",
         "uid": "d975aab6-8292-4981-9982-75b35cbefbf7",
         "x": [
          "BOS",
          "CHI",
          "HOU",
          "KC",
          "NC",
          "NJ",
          "ORL",
          "POR",
          "SEA",
          "UTA",
          "WAS",
          "WNY"
         ],
         "y": [
          "",
          10,
          -4,
          "",
          36,
          -31,
          -7,
          12,
          8,
          -1,
          -23,
          ""
         ]
        },
        {
         "marker": {
          "color": "rgba(101, 101, 101, 0.6)",
          "line": {
           "color": "rgba(101, 101, 101, 1.0)",
           "width": 1
          }
         },
         "name": "2019",
         "orientation": "v",
         "text": "",
         "type": "bar",
         "uid": "cefb9528-e890-462d-ad4a-22564fa4e134",
         "x": [
          "BOS",
          "CHI",
          "HOU",
          "KC",
          "NC",
          "NJ",
          "ORL",
          "POR",
          "SEA",
          "UTA",
          "WAS",
          "WNY"
         ],
         "y": [
          "",
          0,
          -1,
          "",
          8,
          -6,
          -16,
          6,
          -1,
          2,
          8,
          ""
         ]
        }
       ],
       "layout": {
        "legend": {
         "bgcolor": "#FFFFFF",
         "font": {
          "color": "#666666"
         }
        },
        "paper_bgcolor": "#FFFFFF",
        "plot_bgcolor": "#E5E5E5",
        "title": {
         "font": {
          "color": "#151516"
         },
         "text": "Goal Difference by Team by Season (Year)"
        },
        "xaxis": {
         "gridcolor": "#F6F6F6",
         "showgrid": true,
         "tickfont": {
          "color": "#666666"
         },
         "title": {
          "font": {
           "color": "#666666"
          },
          "text": ""
         },
         "zerolinecolor": "#F6F6F6"
        },
        "yaxis": {
         "gridcolor": "#F6F6F6",
         "showgrid": true,
         "tickfont": {
          "color": "#666666"
         },
         "title": {
          "font": {
           "color": "#666666"
          },
          "text": ""
         },
         "zerolinecolor": "#F6F6F6"
        }
       }
      },
      "text/html": [
       "<div>\n",
       "        \n",
       "        \n",
       "            <div id=\"440b1dea-3fb5-4110-a8aa-6e9c27693a75\" class=\"plotly-graph-div\" style=\"height:525px; width:100%;\"></div>\n",
       "            <script type=\"text/javascript\">\n",
       "                require([\"plotly\"], function(Plotly) {\n",
       "                    window.PLOTLYENV=window.PLOTLYENV || {};\n",
       "                    window.PLOTLYENV.BASE_URL='https://plot.ly';\n",
       "                    \n",
       "                if (document.getElementById(\"440b1dea-3fb5-4110-a8aa-6e9c27693a75\")) {\n",
       "                    Plotly.newPlot(\n",
       "                        '440b1dea-3fb5-4110-a8aa-6e9c27693a75',\n",
       "                        [{\"marker\": {\"color\": \"rgba(226, 74, 51, 0.6)\", \"line\": {\"color\": \"rgba(226, 74, 51, 1.0)\", \"width\": 1}}, \"name\": \"2016\", \"orientation\": \"v\", \"text\": \"\", \"type\": \"bar\", \"uid\": \"fb9e3ee4-a3cf-4046-a6de-8809cc0194fd\", \"x\": [\"BOS\", \"CHI\", \"HOU\", \"KC\", \"NC\", \"NJ\", \"ORL\", \"POR\", \"SEA\", \"UTA\", \"WAS\", \"WNY\"], \"y\": [-33.0, 4.0, 0.0, -2.0, \"\", -6.0, -10.0, 16.0, 8.0, \"\", 9.0, 14.0]}, {\"marker\": {\"color\": \"rgba(62, 111, 176, 0.6)\", \"line\": {\"color\": \"rgba(62, 111, 176, 1.0)\", \"width\": 1}}, \"name\": \"2017\", \"orientation\": \"v\", \"text\": \"\", \"type\": \"bar\", \"uid\": \"4fcea88f-1dbe-4b2d-bded-20b7dd5c9718\", \"x\": [\"BOS\", \"CHI\", \"HOU\", \"KC\", \"NC\", \"NJ\", \"ORL\", \"POR\", \"SEA\", \"UTA\", \"WAS\", \"WNY\"], \"y\": [-11.0, 3.0, -16.0, -2.0, 16.0, -9.0, 14.0, 17.0, 6.0, \"\", -18.0, \"\"]}, {\"marker\": {\"color\": \"rgba(132, 118, 202, 0.6)\", \"line\": {\"color\": \"rgba(132, 118, 202, 1.0)\", \"width\": 1}}, \"name\": \"2018\", \"orientation\": \"v\", \"text\": \"\", \"type\": \"bar\", \"uid\": \"d975aab6-8292-4981-9982-75b35cbefbf7\", \"x\": [\"BOS\", \"CHI\", \"HOU\", \"KC\", \"NC\", \"NJ\", \"ORL\", \"POR\", \"SEA\", \"UTA\", \"WAS\", \"WNY\"], \"y\": [\"\", 10.0, -4.0, \"\", 36.0, -31.0, -7.0, 12.0, 8.0, -1.0, -23.0, \"\"]}, {\"marker\": {\"color\": \"rgba(101, 101, 101, 0.6)\", \"line\": {\"color\": \"rgba(101, 101, 101, 1.0)\", \"width\": 1}}, \"name\": \"2019\", \"orientation\": \"v\", \"text\": \"\", \"type\": \"bar\", \"uid\": \"cefb9528-e890-462d-ad4a-22564fa4e134\", \"x\": [\"BOS\", \"CHI\", \"HOU\", \"KC\", \"NC\", \"NJ\", \"ORL\", \"POR\", \"SEA\", \"UTA\", \"WAS\", \"WNY\"], \"y\": [\"\", 0.0, -1.0, \"\", 8.0, -6.0, -16.0, 6.0, -1.0, 2.0, 8.0, \"\"]}],\n",
       "                        {\"legend\": {\"bgcolor\": \"#FFFFFF\", \"font\": {\"color\": \"#666666\"}}, \"paper_bgcolor\": \"#FFFFFF\", \"plot_bgcolor\": \"#E5E5E5\", \"title\": {\"font\": {\"color\": \"#151516\"}, \"text\": \"Goal Difference by Team by Season (Year)\"}, \"xaxis\": {\"gridcolor\": \"#F6F6F6\", \"showgrid\": true, \"tickfont\": {\"color\": \"#666666\"}, \"title\": {\"font\": {\"color\": \"#666666\"}, \"text\": \"\"}, \"zerolinecolor\": \"#F6F6F6\"}, \"yaxis\": {\"gridcolor\": \"#F6F6F6\", \"showgrid\": true, \"tickfont\": {\"color\": \"#666666\"}, \"title\": {\"font\": {\"color\": \"#666666\"}, \"text\": \"\"}, \"zerolinecolor\": \"#F6F6F6\"}},\n",
       "                        {\"showLink\": true, \"linkText\": \"Export to plot.ly\", \"plotlyServerURL\": \"https://plot.ly\", \"responsive\": true}\n",
       "                    ).then(function(){\n",
       "                            \n",
       "var gd = document.getElementById('440b1dea-3fb5-4110-a8aa-6e9c27693a75');\n",
       "var x = new MutationObserver(function (mutations, observer) {{\n",
       "        var display = window.getComputedStyle(gd).display;\n",
       "        if (!display || display === 'none') {{\n",
       "            console.log([gd, 'removed!']);\n",
       "            Plotly.purge(gd);\n",
       "            observer.disconnect();\n",
       "        }}\n",
       "}});\n",
       "\n",
       "// Listen for the removal of the full notebook cells\n",
       "var notebookContainer = gd.closest('#notebook-container');\n",
       "if (notebookContainer) {{\n",
       "    x.observe(notebookContainer, {childList: true});\n",
       "}}\n",
       "\n",
       "// Listen for the clearing of the current output cell\n",
       "var outputEl = gd.closest('.output');\n",
       "if (outputEl) {{\n",
       "    x.observe(outputEl, {childList: true});\n",
       "}}\n",
       "\n",
       "                        })\n",
       "                };\n",
       "                });\n",
       "            </script>\n",
       "        </div>"
      ]
     },
     "metadata": {},
     "output_type": "display_data"
    }
   ],
   "source": [
    "#this cell plots a bar graph of goal difference by team by season\n",
    "seasoned = standings.drop(['Rank', 'Full Team'],\n",
    "                          axis = 1).pivot_table(index = 'Team',\n",
    "                                                columns = 'Season',\n",
    "                                                values = 'Goal Difference')\n",
    "seasoned.iplot(kind = 'bar', title = 'Goal Difference by Team by Season (Year)')"
   ]
  },
  {
   "cell_type": "markdown",
   "metadata": {},
   "source": [
    "## Analysis"
   ]
  },
  {
   "cell_type": "code",
   "execution_count": null,
   "metadata": {},
   "outputs": [],
   "source": []
  }
 ],
 "metadata": {
  "kernelspec": {
   "display_name": "Python 3",
   "language": "python",
   "name": "python3"
  },
  "language_info": {
   "codemirror_mode": {
    "name": "ipython",
    "version": 3
   },
   "file_extension": ".py",
   "mimetype": "text/x-python",
   "name": "python",
   "nbconvert_exporter": "python",
   "pygments_lexer": "ipython3",
   "version": "3.7.3"
  },
  "toc": {
   "base_numbering": 1,
   "nav_menu": {},
   "number_sections": false,
   "sideBar": false,
   "skip_h1_title": false,
   "title_cell": "Table of Contents",
   "title_sidebar": "Contents",
   "toc_cell": false,
   "toc_position": {},
   "toc_section_display": false,
   "toc_window_display": false
  }
 },
 "nbformat": 4,
 "nbformat_minor": 2
}
