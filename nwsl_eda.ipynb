{
 "cells": [
  {
   "cell_type": "markdown",
   "metadata": {},
   "source": [
    "# NWSL Exploratory Data Analysis"
   ]
  },
  {
   "cell_type": "markdown",
   "metadata": {},
   "source": [
    "## Overview\n",
    "The National Women's Soccer League (NWSL) is the premier professional women's soccer league in the United States. In this repository, I will be scraping player and team data, from the NWSL website (www.nwslsoccer.com) and performing exploratory data analysis on the collected data.\n",
    "\n",
    "This project can be found on my GitHub at https://github.com/ck-duong/nwsl.",
    "\n",
    "Please view this notebook at https://nbviewer.jupyter.org/github/ck-duong/nwsl/blob/master/nwsl_eda.ipynb for best visualization."
   ]
  },
  {
   "cell_type": "code",
   "execution_count": 1,
   "metadata": {},
   "outputs": [],
   "source": [
    "%load_ext autoreload\n",
    "%autoreload 2"
   ]
  },
  {
   "cell_type": "code",
   "execution_count": 2,
   "metadata": {},
   "outputs": [],
   "source": [
    "#necessary imports to run the code\n",
    "import requests\n",
    "from bs4 import BeautifulSoup\n",
    "import pandas as pd\n",
    "import numpy as np\n",
    "import os"
   ]
  },
  {
   "cell_type": "code",
   "execution_count": 3,
   "metadata": {},
   "outputs": [
    {
     "data": {
      "text/html": [
       "        <script type=\"text/javascript\">\n",
       "        window.PlotlyConfig = {MathJaxConfig: 'local'};\n",
       "        if (window.MathJax) {MathJax.Hub.Config({SVG: {font: \"STIX-Web\"}});}\n",
       "        if (typeof require !== 'undefined') {\n",
       "        require.undef(\"plotly\");\n",
       "        requirejs.config({\n",
       "            paths: {\n",
       "                'plotly': ['https://cdn.plot.ly/plotly-latest.min']\n",
       "            }\n",
       "        });\n",
       "        require(['plotly'], function(Plotly) {\n",
       "            window._Plotly = Plotly;\n",
       "        });\n",
       "        }\n",
       "        </script>\n",
       "        "
      ]
     },
     "metadata": {},
     "output_type": "display_data"
    },
    {
     "data": {
      "text/html": [
       "        <script type=\"text/javascript\">\n",
       "        window.PlotlyConfig = {MathJaxConfig: 'local'};\n",
       "        if (window.MathJax) {MathJax.Hub.Config({SVG: {font: \"STIX-Web\"}});}\n",
       "        if (typeof require !== 'undefined') {\n",
       "        require.undef(\"plotly\");\n",
       "        requirejs.config({\n",
       "            paths: {\n",
       "                'plotly': ['https://cdn.plot.ly/plotly-latest.min']\n",
       "            }\n",
       "        });\n",
       "        require(['plotly'], function(Plotly) {\n",
       "            window._Plotly = Plotly;\n",
       "        });\n",
       "        }\n",
       "        </script>\n",
       "        "
      ]
     },
     "metadata": {},
     "output_type": "display_data"
    },
    {
     "data": {
      "text/html": [
       "        <script type=\"text/javascript\">\n",
       "        window.PlotlyConfig = {MathJaxConfig: 'local'};\n",
       "        if (window.MathJax) {MathJax.Hub.Config({SVG: {font: \"STIX-Web\"}});}\n",
       "        if (typeof require !== 'undefined') {\n",
       "        require.undef(\"plotly\");\n",
       "        requirejs.config({\n",
       "            paths: {\n",
       "                'plotly': ['https://cdn.plot.ly/plotly-latest.min']\n",
       "            }\n",
       "        });\n",
       "        require(['plotly'], function(Plotly) {\n",
       "            window._Plotly = Plotly;\n",
       "        });\n",
       "        }\n",
       "        </script>\n",
       "        "
      ]
     },
     "metadata": {},
     "output_type": "display_data"
    }
   ],
   "source": [
    "#imports for data visualization\n",
    "import seaborn as sns\n",
    "import matplotlib.pyplot as plt\n",
    "import plotly.plotly as py\n",
    "import plotly.graph_objs as go\n",
    "from plotly.offline import download_plotlyjs, init_notebook_mode, plot, iplot\n",
    "import plotly\n",
    "import cufflinks as cf\n",
    "\n",
    "#for offline plotting\n",
    "plotly.offline.init_notebook_mode(connected=True)\n",
    "cf.set_config_file(offline=True, world_readable=True, theme='ggplot')"
   ]
  },
  {
   "cell_type": "code",
   "execution_count": 4,
   "metadata": {},
   "outputs": [],
   "source": [
    "#imports from module\n",
    "from module.functions import combination, calculate_stats"
   ]
  },
  {
   "cell_type": "markdown",
   "metadata": {},
   "source": [
    "## Scraping\n",
    "In the subdirectory \"scripts\", there are three Python files written to scrape data from the official NWSL website: statscrape.py, teamscrape.py, and standingscrape.py. \n",
    "\n",
    "The statscrape.py file scrapes player data from the Stats page of the website for each player in the league from 2016 through 2019 (each of the years the league has made player/team stats publically available) and compiles them into csv files by year, entitled \"nwsl{}.csv\" for each year. \n",
    "\n",
    "The teamscrape.py file scrapes player data from the Team pages of the website for each team for each year the team has existed and compiles them into csv files by year, entitled \"position{}.csv\" for each year.\n",
    "\n",
    "The standingscrape.py file scrapes team data from the Standings pages of the website for each team for each year the league has provided public stats (2016 - 2019) and compiles them into csv files by year, entitled \"standings{}.csv\" for each year. Additionally, this file also formats the dataframes into more user-readable and more usable data by seperating the scraped Home and Away game data into seperate columns based on location (Home or Away) and game result (Win, Loss, Tie). These standings come from the regular season of NWSL play and do not account for playoff/post-season games.\n",
    "\n",
    "In the following cell of code, I run these three files to create the csvs I will be working with in the rest of this notebook. Currently they are commented out since they only need to be run once to collect our data. However, I will note that the 2019 NWSL season is currently taking place, meaning that rerunning these files will get us the most up to date data. \n",
    "\n",
    "For this analysis, I will only be looking at the statistics for the 2019 season up to June 11th, although my code will be able to work with future data as well since it will all be formatted in the same way. It is also worth nothing that as of late May/early June 2019, many NWSL teams are missing players who also serve on their national team (ie. Sam Kerr of the Chicago Red Stars who also plays for the Australian Women's National Team, etc.) due to the Women's World Cup occuring this summer, 2019.\n",
    "\n",
    "In the future, I will be scraping further player data from the Player page on the NWSL site, which also includes players' personal information such as Country, Height, etc. rather than just NWSL stats."
   ]
  },
  {
   "cell_type": "code",
   "execution_count": 5,
   "metadata": {},
   "outputs": [],
   "source": [
    "#py files to run to scrape the data from the NWSL page. Only need to run once.\n",
    "#uncomment the following lines the first time you're running through this notebook\n",
    "#may take 1-4 minutes to run. Please only run once as not to flood the nwsl.com servers\n",
    "\n",
    "#!python ./scripts/statscrape.py\n",
    "#!python ./scripts/teamscrape.py\n",
    "#!python ./scripts/standingscrape.py"
   ]
  },
  {
   "cell_type": "markdown",
   "metadata": {},
   "source": [
    "## Cleaning and Pre-Analysis\n",
    "This section of the notebook includes reading in the raw data and applying some basic cleaning to make the data easier to work with.\n",
    "\n",
    "Some cleaning/pre-analysis strategies I used were:\n",
    "\n",
    "- Combining the nwsl{}.csv and position{}.csv files into full{}.csv files so I could access both player stats and position.\n",
    "- Creating \"Goals per Game\", \"Assists per Game\", \"Shots per Game\", \"Proportion of Shots on Goal per Goal\", and \"Proportion of Shots on Goal\", for each player in the dataset\n",
    "- Combining all full{}.csv dataframes into a larger dataframe with data from all years named `nwsl`\n",
    "- Combining all standings{}.csv dataframes into a larger dataframe with data from all years named `standings`\n",
    "- Getting the ranks for each team throughout the years and combining them into one dataframe"
   ]
  },
  {
   "cell_type": "code",
   "execution_count": 6,
   "metadata": {},
   "outputs": [],
   "source": [
    "#run to join all of the nwsl/position csvs\n",
    "combination(2016, 2019)"
   ]
  },
  {
   "cell_type": "code",
   "execution_count": 7,
   "metadata": {},
   "outputs": [],
   "source": [
    "#getting all of the full.csv files in the subdirectory\n",
    "file_path = os.path.join('data', 'full')\n",
    "csvs = os.listdir(path = file_path)\n",
    "files = []\n",
    "#for loop to get all the full.csv paths\n",
    "for file in csvs:\n",
    "    fp = os.path.join(file_path, file)\n",
    "    files.append(fp)\n",
    "#for organization purposes later\n",
    "files.sort()"
   ]
  },
  {
   "cell_type": "code",
   "execution_count": 8,
   "metadata": {},
   "outputs": [],
   "source": [
    "#reading all the files from the subdirectory\n",
    "nwsl_2016 = pd.read_csv(files[0])\n",
    "\n",
    "nwsl_2017 = pd.read_csv(files[1])\n",
    "\n",
    "nwsl_2018 = pd.read_csv(files[2])\n",
    "\n",
    "nwsl_2019 = pd.read_csv(files[3])\n",
    "\n",
    "#compiling all the dataframes into a list for later\n",
    "all_nwsl = [nwsl_2016, nwsl_2017, nwsl_2018, nwsl_2019]"
   ]
  },
  {
   "cell_type": "code",
   "execution_count": 9,
   "metadata": {},
   "outputs": [],
   "source": [
    "#apply above function to all dataframes in the list\n",
    "for each in all_nwsl:\n",
    "    calculate_stats(each)"
   ]
  },
  {
   "cell_type": "code",
   "execution_count": 10,
   "metadata": {},
   "outputs": [],
   "source": [
    "nwsl = pd.DataFrame(columns = nwsl_2019.columns)\n",
    "for each in all_nwsl:\n",
    "    nwsl = pd.concat([nwsl, each])\n",
    "#nwsl is the combined data for all years\n",
    "\n",
    "#save as csv for easy access later\n",
    "nwsl.to_csv(os.path.join('data', 'final', 'nwsl_final.csv'), index = False)"
   ]
  },
  {
   "cell_type": "code",
   "execution_count": 11,
   "metadata": {},
   "outputs": [],
   "source": [
    "#getting all of the full.csv files in the subdirectory\n",
    "standings_path = os.path.join('data', 'standings')\n",
    "standings_csvs = os.listdir(path = standings_path)\n",
    "standings_files = []\n",
    "#for loop to get all the full.csv paths\n",
    "for file in standings_csvs:\n",
    "    fp = os.path.join(standings_path, file)\n",
    "    standings_files.append(fp)\n",
    "#for organization purposes later\n",
    "standings_files.sort()"
   ]
  },
  {
   "cell_type": "code",
   "execution_count": 12,
   "metadata": {},
   "outputs": [],
   "source": [
    "#reading all the files from the subdirectory\n",
    "#adding a \"season\" column so we can combine the full dataframes\n",
    "#and still be able to differentiate between seasons\n",
    "standings_2016 = pd.read_csv(standings_files[0])\n",
    "\n",
    "standings_2017 = pd.read_csv(standings_files[1])\n",
    "\n",
    "standings_2018 = pd.read_csv(standings_files[2])\n",
    "\n",
    "standings_2019 = pd.read_csv(standings_files[3])\n",
    "\n",
    "all_standings = [standings_2016, standings_2017, standings_2018, standings_2019]"
   ]
  },
  {
   "cell_type": "code",
   "execution_count": 13,
   "metadata": {},
   "outputs": [],
   "source": [
    "standings = pd.DataFrame()\n",
    "for each in all_standings:\n",
    "    standings = pd.concat([standings, each])\n",
    "#standings is the combined standings data for all years\n",
    "\n",
    "#save as csv for easy access later\n",
    "standings.to_csv(os.path.join('data', 'final', 'standings_final.csv'), index = False)"
   ]
  },
  {
   "cell_type": "code",
   "execution_count": 14,
   "metadata": {},
   "outputs": [],
   "source": [
    "def get_ranks():\n",
    "    \"\"\"\n",
    "    Creates a dataframe of team rankings by season/year\n",
    "    \n",
    "    :parameters:\n",
    "    standings - dataframe like standings2016.csv\n",
    "    all_standings - a list of standings dataframes\n",
    "    \n",
    "    :returns:\n",
    "    rankings - dataframe with team names as columns, years as index,\n",
    "    and ranking of the team that year as the value\n",
    "    \"\"\"\n",
    "    teams = standings['Team'].sort_values().unique()\n",
    "    ranks = pd.DataFrame()\n",
    "    for team in teams:\n",
    "        team_rank = []\n",
    "        for year in all_standings:\n",
    "            rank = year.loc[year['Team'] == team]['Rank'].values\n",
    "            if len(rank):\n",
    "                team_rank.append(rank[0])\n",
    "            else:\n",
    "                team_rank.append(np.nan)\n",
    "        ranks[team] = team_rank\n",
    "        ranks = ranks.set_index(np.arange(2016, 2020))\n",
    "    return ranks"
   ]
  },
  {
   "cell_type": "markdown",
   "metadata": {},
   "source": [
    "## Missingness"
   ]
  },
  {
   "cell_type": "code",
   "execution_count": 15,
   "metadata": {},
   "outputs": [
    {
     "data": {
      "text/html": [
       "<div>\n",
       "<style scoped>\n",
       "    .dataframe tbody tr th:only-of-type {\n",
       "        vertical-align: middle;\n",
       "    }\n",
       "\n",
       "    .dataframe tbody tr th {\n",
       "        vertical-align: top;\n",
       "    }\n",
       "\n",
       "    .dataframe thead th {\n",
       "        text-align: right;\n",
       "    }\n",
       "</style>\n",
       "<table border=\"1\" class=\"dataframe\">\n",
       "  <thead>\n",
       "    <tr style=\"text-align: right;\">\n",
       "      <th></th>\n",
       "      <th>Player Name</th>\n",
       "      <th>Team</th>\n",
       "      <th>Games Played</th>\n",
       "      <th>Games Started</th>\n",
       "      <th>Minutes Played</th>\n",
       "      <th>Goals</th>\n",
       "      <th>Assists</th>\n",
       "      <th>Shots</th>\n",
       "      <th>Shots on Goal</th>\n",
       "      <th>Fouls Committed</th>\n",
       "      <th>...</th>\n",
       "      <th>Penalty Kick Goals</th>\n",
       "      <th>Yellow Cards</th>\n",
       "      <th>Red Cards</th>\n",
       "      <th>Season</th>\n",
       "      <th>Position</th>\n",
       "      <th>Goals per Game</th>\n",
       "      <th>Assists per Game</th>\n",
       "      <th>Shots per Game</th>\n",
       "      <th>Prop SoG</th>\n",
       "      <th>Shots per Goal</th>\n",
       "    </tr>\n",
       "  </thead>\n",
       "  <tbody>\n",
       "    <tr>\n",
       "      <th>18</th>\n",
       "      <td>Sam Kerr</td>\n",
       "      <td>NJ</td>\n",
       "      <td>9.0</td>\n",
       "      <td>6.0</td>\n",
       "      <td>616.0</td>\n",
       "      <td>5.0</td>\n",
       "      <td>0.0</td>\n",
       "      <td>20.0</td>\n",
       "      <td>12.0</td>\n",
       "      <td>5.0</td>\n",
       "      <td>...</td>\n",
       "      <td>0.0</td>\n",
       "      <td>0.0</td>\n",
       "      <td>0.0</td>\n",
       "      <td>2016.0</td>\n",
       "      <td>NaN</td>\n",
       "      <td>0.555556</td>\n",
       "      <td>0.000000</td>\n",
       "      <td>2.222222</td>\n",
       "      <td>0.600000</td>\n",
       "      <td>0.416667</td>\n",
       "    </tr>\n",
       "    <tr>\n",
       "      <th>0</th>\n",
       "      <td>Sam Kerr</td>\n",
       "      <td>NJ</td>\n",
       "      <td>22.0</td>\n",
       "      <td>21.0</td>\n",
       "      <td>1918.0</td>\n",
       "      <td>17.0</td>\n",
       "      <td>4.0</td>\n",
       "      <td>91.0</td>\n",
       "      <td>54.0</td>\n",
       "      <td>10.0</td>\n",
       "      <td>...</td>\n",
       "      <td>0.0</td>\n",
       "      <td>2.0</td>\n",
       "      <td>0.0</td>\n",
       "      <td>2017.0</td>\n",
       "      <td>NaN</td>\n",
       "      <td>0.772727</td>\n",
       "      <td>0.181818</td>\n",
       "      <td>4.136364</td>\n",
       "      <td>0.593407</td>\n",
       "      <td>0.314815</td>\n",
       "    </tr>\n",
       "    <tr>\n",
       "      <th>0</th>\n",
       "      <td>Sam Kerr</td>\n",
       "      <td>CHI</td>\n",
       "      <td>19.0</td>\n",
       "      <td>19.0</td>\n",
       "      <td>1704.0</td>\n",
       "      <td>16.0</td>\n",
       "      <td>4.0</td>\n",
       "      <td>88.0</td>\n",
       "      <td>47.0</td>\n",
       "      <td>9.0</td>\n",
       "      <td>...</td>\n",
       "      <td>0.0</td>\n",
       "      <td>2.0</td>\n",
       "      <td>0.0</td>\n",
       "      <td>2018.0</td>\n",
       "      <td>NaN</td>\n",
       "      <td>0.842105</td>\n",
       "      <td>0.210526</td>\n",
       "      <td>4.631579</td>\n",
       "      <td>0.534091</td>\n",
       "      <td>0.340426</td>\n",
       "    </tr>\n",
       "    <tr>\n",
       "      <th>0</th>\n",
       "      <td>Sam Kerr</td>\n",
       "      <td>CHI</td>\n",
       "      <td>6.0</td>\n",
       "      <td>6.0</td>\n",
       "      <td>540.0</td>\n",
       "      <td>6.0</td>\n",
       "      <td>1.0</td>\n",
       "      <td>21.0</td>\n",
       "      <td>14.0</td>\n",
       "      <td>2.0</td>\n",
       "      <td>...</td>\n",
       "      <td>0.0</td>\n",
       "      <td>1.0</td>\n",
       "      <td>0.0</td>\n",
       "      <td>2019.0</td>\n",
       "      <td>Attacker</td>\n",
       "      <td>1.000000</td>\n",
       "      <td>0.166667</td>\n",
       "      <td>3.500000</td>\n",
       "      <td>0.666667</td>\n",
       "      <td>0.428571</td>\n",
       "    </tr>\n",
       "  </tbody>\n",
       "</table>\n",
       "<p>4 rows × 23 columns</p>\n",
       "</div>"
      ],
      "text/plain": [
       "   Player Name Team  Games Played  Games Started  Minutes Played  Goals  \\\n",
       "18    Sam Kerr   NJ           9.0            6.0           616.0    5.0   \n",
       "0     Sam Kerr   NJ          22.0           21.0          1918.0   17.0   \n",
       "0     Sam Kerr  CHI          19.0           19.0          1704.0   16.0   \n",
       "0     Sam Kerr  CHI           6.0            6.0           540.0    6.0   \n",
       "\n",
       "    Assists  Shots  Shots on Goal  Fouls Committed  ...  Penalty Kick Goals  \\\n",
       "18      0.0   20.0           12.0              5.0  ...                 0.0   \n",
       "0       4.0   91.0           54.0             10.0  ...                 0.0   \n",
       "0       4.0   88.0           47.0              9.0  ...                 0.0   \n",
       "0       1.0   21.0           14.0              2.0  ...                 0.0   \n",
       "\n",
       "    Yellow Cards  Red Cards  Season  Position  Goals per Game  \\\n",
       "18           0.0        0.0  2016.0       NaN        0.555556   \n",
       "0            2.0        0.0  2017.0       NaN        0.772727   \n",
       "0            2.0        0.0  2018.0       NaN        0.842105   \n",
       "0            1.0        0.0  2019.0  Attacker        1.000000   \n",
       "\n",
       "    Assists per Game Shots per Game  Prop SoG  Shots per Goal  \n",
       "18          0.000000       2.222222  0.600000        0.416667  \n",
       "0           0.181818       4.136364  0.593407        0.314815  \n",
       "0           0.210526       4.631579  0.534091        0.340426  \n",
       "0           0.166667       3.500000  0.666667        0.428571  \n",
       "\n",
       "[4 rows x 23 columns]"
      ]
     },
     "execution_count": 15,
     "metadata": {},
     "output_type": "execute_result"
    }
   ],
   "source": [
    "nwsl.loc[nwsl['Player Name'] == 'Sam Kerr']"
   ]
  },
  {
   "cell_type": "code",
   "execution_count": 16,
   "metadata": {},
   "outputs": [
    {
     "data": {
      "text/html": [
       "<div>\n",
       "<style scoped>\n",
       "    .dataframe tbody tr th:only-of-type {\n",
       "        vertical-align: middle;\n",
       "    }\n",
       "\n",
       "    .dataframe tbody tr th {\n",
       "        vertical-align: top;\n",
       "    }\n",
       "\n",
       "    .dataframe thead th {\n",
       "        text-align: right;\n",
       "    }\n",
       "</style>\n",
       "<table border=\"1\" class=\"dataframe\">\n",
       "  <thead>\n",
       "    <tr style=\"text-align: right;\">\n",
       "      <th></th>\n",
       "      <th>Player Name</th>\n",
       "      <th>Team</th>\n",
       "      <th>Games Played</th>\n",
       "      <th>Games Started</th>\n",
       "      <th>Minutes Played</th>\n",
       "      <th>Goals</th>\n",
       "      <th>Assists</th>\n",
       "      <th>Shots</th>\n",
       "      <th>Shots on Goal</th>\n",
       "      <th>Fouls Committed</th>\n",
       "      <th>...</th>\n",
       "      <th>Penalty Kick Goals</th>\n",
       "      <th>Yellow Cards</th>\n",
       "      <th>Red Cards</th>\n",
       "      <th>Season</th>\n",
       "      <th>Position</th>\n",
       "      <th>Goals per Game</th>\n",
       "      <th>Assists per Game</th>\n",
       "      <th>Shots per Game</th>\n",
       "      <th>Prop SoG</th>\n",
       "      <th>Shots per Goal</th>\n",
       "    </tr>\n",
       "  </thead>\n",
       "  <tbody>\n",
       "    <tr>\n",
       "      <th>5</th>\n",
       "      <td>Christen Press</td>\n",
       "      <td>CHI</td>\n",
       "      <td>14.0</td>\n",
       "      <td>14.0</td>\n",
       "      <td>1260.0</td>\n",
       "      <td>8.0</td>\n",
       "      <td>0.0</td>\n",
       "      <td>56.0</td>\n",
       "      <td>32.0</td>\n",
       "      <td>16.0</td>\n",
       "      <td>...</td>\n",
       "      <td>1.0</td>\n",
       "      <td>0.0</td>\n",
       "      <td>0.0</td>\n",
       "      <td>2016.0</td>\n",
       "      <td>Attacker</td>\n",
       "      <td>0.571429</td>\n",
       "      <td>0.000000</td>\n",
       "      <td>4.000000</td>\n",
       "      <td>0.571429</td>\n",
       "      <td>0.250000</td>\n",
       "    </tr>\n",
       "    <tr>\n",
       "      <th>3</th>\n",
       "      <td>Christen Press</td>\n",
       "      <td>CHI</td>\n",
       "      <td>23.0</td>\n",
       "      <td>22.0</td>\n",
       "      <td>1997.0</td>\n",
       "      <td>11.0</td>\n",
       "      <td>4.0</td>\n",
       "      <td>84.0</td>\n",
       "      <td>49.0</td>\n",
       "      <td>24.0</td>\n",
       "      <td>...</td>\n",
       "      <td>4.0</td>\n",
       "      <td>2.0</td>\n",
       "      <td>0.0</td>\n",
       "      <td>2017.0</td>\n",
       "      <td>Attacker</td>\n",
       "      <td>0.478261</td>\n",
       "      <td>0.173913</td>\n",
       "      <td>3.652174</td>\n",
       "      <td>0.583333</td>\n",
       "      <td>0.224490</td>\n",
       "    </tr>\n",
       "    <tr>\n",
       "      <th>46</th>\n",
       "      <td>Christen Press</td>\n",
       "      <td>UTA</td>\n",
       "      <td>11.0</td>\n",
       "      <td>11.0</td>\n",
       "      <td>975.0</td>\n",
       "      <td>2.0</td>\n",
       "      <td>2.0</td>\n",
       "      <td>34.0</td>\n",
       "      <td>17.0</td>\n",
       "      <td>5.0</td>\n",
       "      <td>...</td>\n",
       "      <td>0.0</td>\n",
       "      <td>0.0</td>\n",
       "      <td>0.0</td>\n",
       "      <td>2018.0</td>\n",
       "      <td>Attacker</td>\n",
       "      <td>0.181818</td>\n",
       "      <td>0.181818</td>\n",
       "      <td>3.090909</td>\n",
       "      <td>0.500000</td>\n",
       "      <td>0.117647</td>\n",
       "    </tr>\n",
       "    <tr>\n",
       "      <th>42</th>\n",
       "      <td>Christen Press</td>\n",
       "      <td>UTA</td>\n",
       "      <td>2.0</td>\n",
       "      <td>2.0</td>\n",
       "      <td>180.0</td>\n",
       "      <td>1.0</td>\n",
       "      <td>1.0</td>\n",
       "      <td>7.0</td>\n",
       "      <td>3.0</td>\n",
       "      <td>3.0</td>\n",
       "      <td>...</td>\n",
       "      <td>0.0</td>\n",
       "      <td>0.0</td>\n",
       "      <td>0.0</td>\n",
       "      <td>2019.0</td>\n",
       "      <td>Attacker</td>\n",
       "      <td>0.500000</td>\n",
       "      <td>0.500000</td>\n",
       "      <td>3.500000</td>\n",
       "      <td>0.428571</td>\n",
       "      <td>0.333333</td>\n",
       "    </tr>\n",
       "  </tbody>\n",
       "</table>\n",
       "<p>4 rows × 23 columns</p>\n",
       "</div>"
      ],
      "text/plain": [
       "       Player Name Team  Games Played  Games Started  Minutes Played  Goals  \\\n",
       "5   Christen Press  CHI          14.0           14.0          1260.0    8.0   \n",
       "3   Christen Press  CHI          23.0           22.0          1997.0   11.0   \n",
       "46  Christen Press  UTA          11.0           11.0           975.0    2.0   \n",
       "42  Christen Press  UTA           2.0            2.0           180.0    1.0   \n",
       "\n",
       "    Assists  Shots  Shots on Goal  Fouls Committed  ...  Penalty Kick Goals  \\\n",
       "5       0.0   56.0           32.0             16.0  ...                 1.0   \n",
       "3       4.0   84.0           49.0             24.0  ...                 4.0   \n",
       "46      2.0   34.0           17.0              5.0  ...                 0.0   \n",
       "42      1.0    7.0            3.0              3.0  ...                 0.0   \n",
       "\n",
       "    Yellow Cards  Red Cards  Season  Position  Goals per Game  \\\n",
       "5            0.0        0.0  2016.0  Attacker        0.571429   \n",
       "3            2.0        0.0  2017.0  Attacker        0.478261   \n",
       "46           0.0        0.0  2018.0  Attacker        0.181818   \n",
       "42           0.0        0.0  2019.0  Attacker        0.500000   \n",
       "\n",
       "    Assists per Game Shots per Game  Prop SoG  Shots per Goal  \n",
       "5           0.000000       4.000000  0.571429        0.250000  \n",
       "3           0.173913       3.652174  0.583333        0.224490  \n",
       "46          0.181818       3.090909  0.500000        0.117647  \n",
       "42          0.500000       3.500000  0.428571        0.333333  \n",
       "\n",
       "[4 rows x 23 columns]"
      ]
     },
     "execution_count": 16,
     "metadata": {},
     "output_type": "execute_result"
    }
   ],
   "source": [
    "nwsl.loc[nwsl['Player Name'] == 'Christen Press']"
   ]
  },
  {
   "cell_type": "code",
   "execution_count": 17,
   "metadata": {},
   "outputs": [
    {
     "data": {
      "text/html": [
       "<div>\n",
       "<style scoped>\n",
       "    .dataframe tbody tr th:only-of-type {\n",
       "        vertical-align: middle;\n",
       "    }\n",
       "\n",
       "    .dataframe tbody tr th {\n",
       "        vertical-align: top;\n",
       "    }\n",
       "\n",
       "    .dataframe thead th {\n",
       "        text-align: right;\n",
       "    }\n",
       "</style>\n",
       "<table border=\"1\" class=\"dataframe\">\n",
       "  <thead>\n",
       "    <tr style=\"text-align: right;\">\n",
       "      <th></th>\n",
       "      <th>Player Name</th>\n",
       "      <th>Team</th>\n",
       "      <th>Games Played</th>\n",
       "      <th>Games Started</th>\n",
       "      <th>Minutes Played</th>\n",
       "      <th>Goals</th>\n",
       "      <th>Assists</th>\n",
       "      <th>Shots</th>\n",
       "      <th>Shots on Goal</th>\n",
       "      <th>Fouls Committed</th>\n",
       "      <th>...</th>\n",
       "      <th>Penalty Kick Goals</th>\n",
       "      <th>Yellow Cards</th>\n",
       "      <th>Red Cards</th>\n",
       "      <th>Season</th>\n",
       "      <th>Position</th>\n",
       "      <th>Goals per Game</th>\n",
       "      <th>Assists per Game</th>\n",
       "      <th>Shots per Game</th>\n",
       "      <th>Prop SoG</th>\n",
       "      <th>Shots per Goal</th>\n",
       "    </tr>\n",
       "  </thead>\n",
       "  <tbody>\n",
       "    <tr>\n",
       "      <th>76</th>\n",
       "      <td>Ali Krieger</td>\n",
       "      <td>WAS</td>\n",
       "      <td>15.0</td>\n",
       "      <td>14.0</td>\n",
       "      <td>1267.0</td>\n",
       "      <td>1.0</td>\n",
       "      <td>0.0</td>\n",
       "      <td>8.0</td>\n",
       "      <td>4.0</td>\n",
       "      <td>9.0</td>\n",
       "      <td>...</td>\n",
       "      <td>0.0</td>\n",
       "      <td>2.0</td>\n",
       "      <td>0.0</td>\n",
       "      <td>2016.0</td>\n",
       "      <td>NaN</td>\n",
       "      <td>0.066667</td>\n",
       "      <td>0.000000</td>\n",
       "      <td>0.533333</td>\n",
       "      <td>0.500000</td>\n",
       "      <td>0.25</td>\n",
       "    </tr>\n",
       "    <tr>\n",
       "      <th>116</th>\n",
       "      <td>Ali Krieger</td>\n",
       "      <td>ORL</td>\n",
       "      <td>24.0</td>\n",
       "      <td>24.0</td>\n",
       "      <td>2160.0</td>\n",
       "      <td>0.0</td>\n",
       "      <td>2.0</td>\n",
       "      <td>3.0</td>\n",
       "      <td>0.0</td>\n",
       "      <td>13.0</td>\n",
       "      <td>...</td>\n",
       "      <td>0.0</td>\n",
       "      <td>2.0</td>\n",
       "      <td>0.0</td>\n",
       "      <td>2017.0</td>\n",
       "      <td>Defender</td>\n",
       "      <td>0.000000</td>\n",
       "      <td>0.083333</td>\n",
       "      <td>0.125000</td>\n",
       "      <td>0.000000</td>\n",
       "      <td>0.00</td>\n",
       "    </tr>\n",
       "    <tr>\n",
       "      <th>89</th>\n",
       "      <td>Ali Krieger</td>\n",
       "      <td>ORL</td>\n",
       "      <td>19.0</td>\n",
       "      <td>19.0</td>\n",
       "      <td>1675.0</td>\n",
       "      <td>0.0</td>\n",
       "      <td>2.0</td>\n",
       "      <td>7.0</td>\n",
       "      <td>1.0</td>\n",
       "      <td>12.0</td>\n",
       "      <td>...</td>\n",
       "      <td>0.0</td>\n",
       "      <td>1.0</td>\n",
       "      <td>0.0</td>\n",
       "      <td>2018.0</td>\n",
       "      <td>Defender</td>\n",
       "      <td>0.000000</td>\n",
       "      <td>0.105263</td>\n",
       "      <td>0.368421</td>\n",
       "      <td>0.142857</td>\n",
       "      <td>0.00</td>\n",
       "    </tr>\n",
       "    <tr>\n",
       "      <th>86</th>\n",
       "      <td>Ali Krieger</td>\n",
       "      <td>ORL</td>\n",
       "      <td>4.0</td>\n",
       "      <td>4.0</td>\n",
       "      <td>360.0</td>\n",
       "      <td>0.0</td>\n",
       "      <td>0.0</td>\n",
       "      <td>1.0</td>\n",
       "      <td>0.0</td>\n",
       "      <td>3.0</td>\n",
       "      <td>...</td>\n",
       "      <td>0.0</td>\n",
       "      <td>0.0</td>\n",
       "      <td>0.0</td>\n",
       "      <td>2019.0</td>\n",
       "      <td>Defender</td>\n",
       "      <td>0.000000</td>\n",
       "      <td>0.000000</td>\n",
       "      <td>0.250000</td>\n",
       "      <td>0.000000</td>\n",
       "      <td>0.00</td>\n",
       "    </tr>\n",
       "  </tbody>\n",
       "</table>\n",
       "<p>4 rows × 23 columns</p>\n",
       "</div>"
      ],
      "text/plain": [
       "     Player Name Team  Games Played  Games Started  Minutes Played  Goals  \\\n",
       "76   Ali Krieger  WAS          15.0           14.0          1267.0    1.0   \n",
       "116  Ali Krieger  ORL          24.0           24.0          2160.0    0.0   \n",
       "89   Ali Krieger  ORL          19.0           19.0          1675.0    0.0   \n",
       "86   Ali Krieger  ORL           4.0            4.0           360.0    0.0   \n",
       "\n",
       "     Assists  Shots  Shots on Goal  Fouls Committed  ...  Penalty Kick Goals  \\\n",
       "76       0.0    8.0            4.0              9.0  ...                 0.0   \n",
       "116      2.0    3.0            0.0             13.0  ...                 0.0   \n",
       "89       2.0    7.0            1.0             12.0  ...                 0.0   \n",
       "86       0.0    1.0            0.0              3.0  ...                 0.0   \n",
       "\n",
       "     Yellow Cards  Red Cards  Season  Position  Goals per Game  \\\n",
       "76            2.0        0.0  2016.0       NaN        0.066667   \n",
       "116           2.0        0.0  2017.0  Defender        0.000000   \n",
       "89            1.0        0.0  2018.0  Defender        0.000000   \n",
       "86            0.0        0.0  2019.0  Defender        0.000000   \n",
       "\n",
       "     Assists per Game Shots per Game  Prop SoG  Shots per Goal  \n",
       "76           0.000000       0.533333  0.500000            0.25  \n",
       "116          0.083333       0.125000  0.000000            0.00  \n",
       "89           0.105263       0.368421  0.142857            0.00  \n",
       "86           0.000000       0.250000  0.000000            0.00  \n",
       "\n",
       "[4 rows x 23 columns]"
      ]
     },
     "execution_count": 17,
     "metadata": {},
     "output_type": "execute_result"
    }
   ],
   "source": [
    "nwsl.loc[nwsl['Player Name'] == 'Ali Krieger']"
   ]
  },
  {
   "cell_type": "code",
   "execution_count": 18,
   "metadata": {},
   "outputs": [
    {
     "data": {
      "text/html": [
       "<div>\n",
       "<style scoped>\n",
       "    .dataframe tbody tr th:only-of-type {\n",
       "        vertical-align: middle;\n",
       "    }\n",
       "\n",
       "    .dataframe tbody tr th {\n",
       "        vertical-align: top;\n",
       "    }\n",
       "\n",
       "    .dataframe thead th {\n",
       "        text-align: right;\n",
       "    }\n",
       "</style>\n",
       "<table border=\"1\" class=\"dataframe\">\n",
       "  <thead>\n",
       "    <tr style=\"text-align: right;\">\n",
       "      <th></th>\n",
       "      <th>Player Name</th>\n",
       "      <th>Team</th>\n",
       "      <th>Games Played</th>\n",
       "      <th>Games Started</th>\n",
       "      <th>Minutes Played</th>\n",
       "      <th>Goals</th>\n",
       "      <th>Assists</th>\n",
       "      <th>Shots</th>\n",
       "      <th>Shots on Goal</th>\n",
       "      <th>Fouls Committed</th>\n",
       "      <th>...</th>\n",
       "      <th>Penalty Kick Goals</th>\n",
       "      <th>Yellow Cards</th>\n",
       "      <th>Red Cards</th>\n",
       "      <th>Season</th>\n",
       "      <th>Position</th>\n",
       "      <th>Goals per Game</th>\n",
       "      <th>Assists per Game</th>\n",
       "      <th>Shots per Game</th>\n",
       "      <th>Prop SoG</th>\n",
       "      <th>Shots per Goal</th>\n",
       "    </tr>\n",
       "  </thead>\n",
       "  <tbody>\n",
       "    <tr>\n",
       "      <th>131</th>\n",
       "      <td>Hayley Raso</td>\n",
       "      <td>POR</td>\n",
       "      <td>20.0</td>\n",
       "      <td>6.0</td>\n",
       "      <td>751.0</td>\n",
       "      <td>0.0</td>\n",
       "      <td>2.0</td>\n",
       "      <td>9.0</td>\n",
       "      <td>3.0</td>\n",
       "      <td>18.0</td>\n",
       "      <td>...</td>\n",
       "      <td>0.0</td>\n",
       "      <td>3.0</td>\n",
       "      <td>0.0</td>\n",
       "      <td>2016.0</td>\n",
       "      <td>NaN</td>\n",
       "      <td>0.000000</td>\n",
       "      <td>0.100000</td>\n",
       "      <td>0.450000</td>\n",
       "      <td>0.333333</td>\n",
       "      <td>0.000000</td>\n",
       "    </tr>\n",
       "    <tr>\n",
       "      <th>12</th>\n",
       "      <td>Hayley Raso</td>\n",
       "      <td>POR</td>\n",
       "      <td>22.0</td>\n",
       "      <td>20.0</td>\n",
       "      <td>1784.0</td>\n",
       "      <td>6.0</td>\n",
       "      <td>3.0</td>\n",
       "      <td>16.0</td>\n",
       "      <td>9.0</td>\n",
       "      <td>38.0</td>\n",
       "      <td>...</td>\n",
       "      <td>0.0</td>\n",
       "      <td>5.0</td>\n",
       "      <td>0.0</td>\n",
       "      <td>2017.0</td>\n",
       "      <td>NaN</td>\n",
       "      <td>0.272727</td>\n",
       "      <td>0.136364</td>\n",
       "      <td>0.727273</td>\n",
       "      <td>0.562500</td>\n",
       "      <td>0.666667</td>\n",
       "    </tr>\n",
       "    <tr>\n",
       "      <th>43</th>\n",
       "      <td>Hayley Raso</td>\n",
       "      <td>POR</td>\n",
       "      <td>12.0</td>\n",
       "      <td>9.0</td>\n",
       "      <td>774.0</td>\n",
       "      <td>2.0</td>\n",
       "      <td>2.0</td>\n",
       "      <td>16.0</td>\n",
       "      <td>5.0</td>\n",
       "      <td>17.0</td>\n",
       "      <td>...</td>\n",
       "      <td>0.0</td>\n",
       "      <td>0.0</td>\n",
       "      <td>0.0</td>\n",
       "      <td>2018.0</td>\n",
       "      <td>NaN</td>\n",
       "      <td>0.166667</td>\n",
       "      <td>0.166667</td>\n",
       "      <td>1.333333</td>\n",
       "      <td>0.312500</td>\n",
       "      <td>0.400000</td>\n",
       "    </tr>\n",
       "    <tr>\n",
       "      <th>120</th>\n",
       "      <td>Hayley Raso</td>\n",
       "      <td>POR</td>\n",
       "      <td>1.0</td>\n",
       "      <td>0.0</td>\n",
       "      <td>45.0</td>\n",
       "      <td>0.0</td>\n",
       "      <td>0.0</td>\n",
       "      <td>1.0</td>\n",
       "      <td>1.0</td>\n",
       "      <td>1.0</td>\n",
       "      <td>...</td>\n",
       "      <td>0.0</td>\n",
       "      <td>0.0</td>\n",
       "      <td>0.0</td>\n",
       "      <td>2019.0</td>\n",
       "      <td>Attacker</td>\n",
       "      <td>0.000000</td>\n",
       "      <td>0.000000</td>\n",
       "      <td>1.000000</td>\n",
       "      <td>1.000000</td>\n",
       "      <td>0.000000</td>\n",
       "    </tr>\n",
       "  </tbody>\n",
       "</table>\n",
       "<p>4 rows × 23 columns</p>\n",
       "</div>"
      ],
      "text/plain": [
       "     Player Name Team  Games Played  Games Started  Minutes Played  Goals  \\\n",
       "131  Hayley Raso  POR          20.0            6.0           751.0    0.0   \n",
       "12   Hayley Raso  POR          22.0           20.0          1784.0    6.0   \n",
       "43   Hayley Raso  POR          12.0            9.0           774.0    2.0   \n",
       "120  Hayley Raso  POR           1.0            0.0            45.0    0.0   \n",
       "\n",
       "     Assists  Shots  Shots on Goal  Fouls Committed  ...  Penalty Kick Goals  \\\n",
       "131      2.0    9.0            3.0             18.0  ...                 0.0   \n",
       "12       3.0   16.0            9.0             38.0  ...                 0.0   \n",
       "43       2.0   16.0            5.0             17.0  ...                 0.0   \n",
       "120      0.0    1.0            1.0              1.0  ...                 0.0   \n",
       "\n",
       "     Yellow Cards  Red Cards  Season  Position  Goals per Game  \\\n",
       "131           3.0        0.0  2016.0       NaN        0.000000   \n",
       "12            5.0        0.0  2017.0       NaN        0.272727   \n",
       "43            0.0        0.0  2018.0       NaN        0.166667   \n",
       "120           0.0        0.0  2019.0  Attacker        0.000000   \n",
       "\n",
       "     Assists per Game Shots per Game  Prop SoG  Shots per Goal  \n",
       "131          0.100000       0.450000  0.333333        0.000000  \n",
       "12           0.136364       0.727273  0.562500        0.666667  \n",
       "43           0.166667       1.333333  0.312500        0.400000  \n",
       "120          0.000000       1.000000  1.000000        0.000000  \n",
       "\n",
       "[4 rows x 23 columns]"
      ]
     },
     "execution_count": 18,
     "metadata": {},
     "output_type": "execute_result"
    }
   ],
   "source": [
    "nwsl.loc[nwsl['Player Name'] == 'Hayley Raso']"
   ]
  },
  {
   "cell_type": "markdown",
   "metadata": {},
   "source": [
    "As I was exploring the NWSL data, I noticed some missingness, specifically in the 'Position' column of `nwsl` data. When I looked over the position{}.csvs, I noticed that they were much smaller than the nwsl{}.csvs (general player stats), and the Position missingness became more evident after joining the dataframes. The position2019.csv was the only one that was not missing any data.\n",
    "\n",
    "On further inspection of the NWSL site, I noticed that teams' older rosters did not have all of their players for that year. For example, in 2016, the Chicago Red Stars (CHI) only listed 5 players on their roster, resulting in only 5 player positions being scraped in position2016.csv for CHI, even though they had a full team of 20 players as shown in the nwsl_2016 dataframe.\n",
    "\n",
    "To explore this missingness, I first focused on a specific player, Sam Kerr. For the 2016 and 2017 seasons, Kerr played for Sky Blue FC (NJ). She was traded to CHI in 2018 prior to the season start and played for CHI for the 2018 and 2019 seasons. However, only the 2019 dataset had her position as an Attacker listed, as shown above. It seemed that her previous team, NJ, had removed her from their roster and her current team, CHI, had not added her until 2019, so I wanted to check if this was true for all players.\n",
    "\n",
    "Next I looked at players Christen Press, Ali Krieger, and Hayley Raso to further explore the missingness in this dataset. Press and Krieger are well known USWNT players who have been traded in the 2016-2019 timeframe while Raso is a prominent AUSWNT player who has consistently been playing for the Portland Thorns (POR) since her acquisition from the Washington Spirit (WAS) in 2016. \n",
    "\n",
    "For Press, though she had been traded in 2018 from CHI to the Utah Royals (UTA), she had had a position listed for all the years she played in the NWSL. When looking at the NWSL site, I noticed that if a team did not exist during a certain year (ie. UTA in 2016) changing the roster URL as I did in my teamscrape.py would redirect us to the 2019 roster, which had all of the current players listed, explaining why Press did not have any missingness in Position.\n",
    "\n",
    "With Krieger, there was only missingness of Position in 2016 with her previous team, the Washington Spirit (WAS). Though she was traded in 2017 to the Orlando Pride (ORL), there is no missingness during her time with ORL, which was different than the trend we saw with Kerr.\n",
    "\n",
    "For Raso, there was missing Position data for all years prior to 2019, even though Raso played for POR from 2016 onwards.\n",
    "\n",
    "In the future, to confirm missingness type, I will perform a permutation test to see if the missingness of Position is Missing At Random (MAR) dependent on Team/Year, Not Missing At Random (NMAR) or Missing Completely At Random (MCAR)."
   ]
  },
  {
   "cell_type": "code",
   "execution_count": 19,
   "metadata": {},
   "outputs": [
    {
     "data": {
      "text/html": [
       "<div>\n",
       "<style scoped>\n",
       "    .dataframe tbody tr th:only-of-type {\n",
       "        vertical-align: middle;\n",
       "    }\n",
       "\n",
       "    .dataframe tbody tr th {\n",
       "        vertical-align: top;\n",
       "    }\n",
       "\n",
       "    .dataframe thead th {\n",
       "        text-align: right;\n",
       "    }\n",
       "</style>\n",
       "<table border=\"1\" class=\"dataframe\">\n",
       "  <thead>\n",
       "    <tr style=\"text-align: right;\">\n",
       "      <th></th>\n",
       "      <th>Player Name</th>\n",
       "      <th>Team</th>\n",
       "      <th>Games Played</th>\n",
       "      <th>Games Started</th>\n",
       "      <th>Minutes Played</th>\n",
       "      <th>Goals</th>\n",
       "      <th>Assists</th>\n",
       "      <th>Shots</th>\n",
       "      <th>Shots on Goal</th>\n",
       "      <th>Fouls Committed</th>\n",
       "      <th>...</th>\n",
       "      <th>Penalty Kick Goals</th>\n",
       "      <th>Yellow Cards</th>\n",
       "      <th>Red Cards</th>\n",
       "      <th>Season</th>\n",
       "      <th>Position</th>\n",
       "      <th>Goals per Game</th>\n",
       "      <th>Assists per Game</th>\n",
       "      <th>Shots per Game</th>\n",
       "      <th>Prop SoG</th>\n",
       "      <th>Shots per Goal</th>\n",
       "    </tr>\n",
       "  </thead>\n",
       "  <tbody>\n",
       "    <tr>\n",
       "      <th>3</th>\n",
       "      <td>Nadia Nadim</td>\n",
       "      <td>POR</td>\n",
       "      <td>20.0</td>\n",
       "      <td>20.0</td>\n",
       "      <td>1649.0</td>\n",
       "      <td>9.0</td>\n",
       "      <td>3.0</td>\n",
       "      <td>32.0</td>\n",
       "      <td>15.0</td>\n",
       "      <td>36.0</td>\n",
       "      <td>...</td>\n",
       "      <td>4.0</td>\n",
       "      <td>4.0</td>\n",
       "      <td>0.0</td>\n",
       "      <td>2016.0</td>\n",
       "      <td>NaN</td>\n",
       "      <td>0.450000</td>\n",
       "      <td>0.150000</td>\n",
       "      <td>1.600000</td>\n",
       "      <td>0.468750</td>\n",
       "      <td>0.600000</td>\n",
       "    </tr>\n",
       "    <tr>\n",
       "      <th>6</th>\n",
       "      <td>Manon Melis</td>\n",
       "      <td>SEA</td>\n",
       "      <td>16.0</td>\n",
       "      <td>15.0</td>\n",
       "      <td>1051.0</td>\n",
       "      <td>7.0</td>\n",
       "      <td>1.0</td>\n",
       "      <td>29.0</td>\n",
       "      <td>21.0</td>\n",
       "      <td>7.0</td>\n",
       "      <td>...</td>\n",
       "      <td>0.0</td>\n",
       "      <td>0.0</td>\n",
       "      <td>0.0</td>\n",
       "      <td>2016.0</td>\n",
       "      <td>NaN</td>\n",
       "      <td>0.437500</td>\n",
       "      <td>0.062500</td>\n",
       "      <td>1.812500</td>\n",
       "      <td>0.724138</td>\n",
       "      <td>0.333333</td>\n",
       "    </tr>\n",
       "    <tr>\n",
       "      <th>7</th>\n",
       "      <td>Sofia Huerta</td>\n",
       "      <td>CHI</td>\n",
       "      <td>20.0</td>\n",
       "      <td>20.0</td>\n",
       "      <td>1742.0</td>\n",
       "      <td>7.0</td>\n",
       "      <td>2.0</td>\n",
       "      <td>39.0</td>\n",
       "      <td>16.0</td>\n",
       "      <td>21.0</td>\n",
       "      <td>...</td>\n",
       "      <td>0.0</td>\n",
       "      <td>2.0</td>\n",
       "      <td>0.0</td>\n",
       "      <td>2016.0</td>\n",
       "      <td>NaN</td>\n",
       "      <td>0.350000</td>\n",
       "      <td>0.100000</td>\n",
       "      <td>1.950000</td>\n",
       "      <td>0.410256</td>\n",
       "      <td>0.437500</td>\n",
       "    </tr>\n",
       "    <tr>\n",
       "      <th>8</th>\n",
       "      <td>Kim Little</td>\n",
       "      <td>SEA</td>\n",
       "      <td>20.0</td>\n",
       "      <td>20.0</td>\n",
       "      <td>1795.0</td>\n",
       "      <td>6.0</td>\n",
       "      <td>2.0</td>\n",
       "      <td>27.0</td>\n",
       "      <td>16.0</td>\n",
       "      <td>17.0</td>\n",
       "      <td>...</td>\n",
       "      <td>3.0</td>\n",
       "      <td>0.0</td>\n",
       "      <td>0.0</td>\n",
       "      <td>2016.0</td>\n",
       "      <td>NaN</td>\n",
       "      <td>0.300000</td>\n",
       "      <td>0.100000</td>\n",
       "      <td>1.350000</td>\n",
       "      <td>0.592593</td>\n",
       "      <td>0.375000</td>\n",
       "    </tr>\n",
       "    <tr>\n",
       "      <th>12</th>\n",
       "      <td>Carli Lloyd</td>\n",
       "      <td>HOU</td>\n",
       "      <td>7.0</td>\n",
       "      <td>7.0</td>\n",
       "      <td>553.0</td>\n",
       "      <td>5.0</td>\n",
       "      <td>3.0</td>\n",
       "      <td>26.0</td>\n",
       "      <td>12.0</td>\n",
       "      <td>4.0</td>\n",
       "      <td>...</td>\n",
       "      <td>1.0</td>\n",
       "      <td>0.0</td>\n",
       "      <td>0.0</td>\n",
       "      <td>2016.0</td>\n",
       "      <td>NaN</td>\n",
       "      <td>0.714286</td>\n",
       "      <td>0.428571</td>\n",
       "      <td>3.714286</td>\n",
       "      <td>0.461538</td>\n",
       "      <td>0.416667</td>\n",
       "    </tr>\n",
       "  </tbody>\n",
       "</table>\n",
       "<p>5 rows × 23 columns</p>\n",
       "</div>"
      ],
      "text/plain": [
       "     Player Name Team  Games Played  Games Started  Minutes Played  Goals  \\\n",
       "3    Nadia Nadim  POR          20.0           20.0          1649.0    9.0   \n",
       "6    Manon Melis  SEA          16.0           15.0          1051.0    7.0   \n",
       "7   Sofia Huerta  CHI          20.0           20.0          1742.0    7.0   \n",
       "8     Kim Little  SEA          20.0           20.0          1795.0    6.0   \n",
       "12   Carli Lloyd  HOU           7.0            7.0           553.0    5.0   \n",
       "\n",
       "    Assists  Shots  Shots on Goal  Fouls Committed  ...  Penalty Kick Goals  \\\n",
       "3       3.0   32.0           15.0             36.0  ...                 4.0   \n",
       "6       1.0   29.0           21.0              7.0  ...                 0.0   \n",
       "7       2.0   39.0           16.0             21.0  ...                 0.0   \n",
       "8       2.0   27.0           16.0             17.0  ...                 3.0   \n",
       "12      3.0   26.0           12.0              4.0  ...                 1.0   \n",
       "\n",
       "    Yellow Cards  Red Cards  Season  Position  Goals per Game  \\\n",
       "3            4.0        0.0  2016.0       NaN        0.450000   \n",
       "6            0.0        0.0  2016.0       NaN        0.437500   \n",
       "7            2.0        0.0  2016.0       NaN        0.350000   \n",
       "8            0.0        0.0  2016.0       NaN        0.300000   \n",
       "12           0.0        0.0  2016.0       NaN        0.714286   \n",
       "\n",
       "    Assists per Game Shots per Game  Prop SoG  Shots per Goal  \n",
       "3           0.150000       1.600000  0.468750        0.600000  \n",
       "6           0.062500       1.812500  0.724138        0.333333  \n",
       "7           0.100000       1.950000  0.410256        0.437500  \n",
       "8           0.100000       1.350000  0.592593        0.375000  \n",
       "12          0.428571       3.714286  0.461538        0.416667  \n",
       "\n",
       "[5 rows x 23 columns]"
      ]
     },
     "execution_count": 19,
     "metadata": {},
     "output_type": "execute_result"
    }
   ],
   "source": [
    "null_cols = nwsl.columns[nwsl.isnull().any()]\n",
    "data_nulls = nwsl[nwsl.isnull().any(axis=1)] #get the rows that have nulls\n",
    "data_nulls.head()"
   ]
  },
  {
   "cell_type": "markdown",
   "metadata": {},
   "source": [
    "## Visualizations"
   ]
  },
  {
   "cell_type": "markdown",
   "metadata": {},
   "source": [
    "Note: After the 2016 season, the francise rights to the Western New York Flash (WNY) were sold to the owners of North Carolina FC and the team was rebranded as the North Carolina Courage (NC). Many players from the 2016 WNYF team eventually played on the 2017 and onwards NC team. For the purposes of this EDA, I did not combine the 2016 WNYF data with the NC data."
   ]
  },
  {
   "cell_type": "code",
   "execution_count": 20,
   "metadata": {},
   "outputs": [
    {
     "data": {
      "application/vnd.plotly.v1+json": {
       "config": {
        "linkText": "Export to plot.ly",
        "plotlyServerURL": "https://plot.ly",
        "showLink": true
       },
       "data": [
        {
         "marker": {
          "color": "rgba(226, 74, 51, 0.6)",
          "line": {
           "color": "rgba(226, 74, 51, 1.0)",
           "width": 1
          }
         },
         "name": "2016.0",
         "orientation": "v",
         "text": "",
         "type": "bar",
         "uid": "6828f4de-021b-48ac-9421-8a985c62587a",
         "x": [
          "BOS",
          "CHI",
          "HOU",
          "KC",
          "NC",
          "NJ",
          "ORL",
          "POR",
          "SEA",
          "UTA",
          "WAS",
          "WNY"
         ],
         "y": [
          14,
          23,
          29,
          18,
          "",
          23,
          17,
          34,
          29,
          "",
          30,
          42
         ]
        },
        {
         "marker": {
          "color": "rgba(62, 111, 176, 0.6)",
          "line": {
           "color": "rgba(62, 111, 176, 1.0)",
           "width": 1
          }
         },
         "name": "2017.0",
         "orientation": "v",
         "text": "",
         "type": "bar",
         "uid": "5814b35d-9552-4cac-9ed8-4691764efd6a",
         "x": [
          "BOS",
          "CHI",
          "HOU",
          "KC",
          "NC",
          "NJ",
          "ORL",
          "POR",
          "SEA",
          "UTA",
          "WAS",
          "WNY"
         ],
         "y": [
          22,
          31,
          23,
          29,
          37,
          42,
          45,
          36,
          48,
          "",
          30,
          ""
         ]
        },
        {
         "marker": {
          "color": "rgba(132, 118, 202, 0.6)",
          "line": {
           "color": "rgba(132, 118, 202, 1.0)",
           "width": 1
          }
         },
         "name": "2018.0",
         "orientation": "v",
         "text": "",
         "type": "bar",
         "uid": "53a5a5d6-eff4-4252-87c2-7e43429bc814",
         "x": [
          "BOS",
          "CHI",
          "HOU",
          "KC",
          "NC",
          "NJ",
          "ORL",
          "POR",
          "SEA",
          "UTA",
          "WAS",
          "WNY"
         ],
         "y": [
          "",
          33,
          39,
          "",
          52,
          23,
          30,
          40,
          29,
          20,
          12,
          ""
         ]
        },
        {
         "marker": {
          "color": "rgba(101, 101, 101, 0.6)",
          "line": {
           "color": "rgba(101, 101, 101, 1.0)",
           "width": 1
          }
         },
         "name": "2019.0",
         "orientation": "v",
         "text": "",
         "type": "bar",
         "uid": "39e9eca4-f7e1-49ce-8c4f-eb4fe732e5d0",
         "x": [
          "BOS",
          "CHI",
          "HOU",
          "KC",
          "NC",
          "NJ",
          "ORL",
          "POR",
          "SEA",
          "UTA",
          "WAS",
          "WNY"
         ],
         "y": [
          "",
          13,
          8,
          "",
          16,
          5,
          2,
          16,
          8,
          7,
          10,
          ""
         ]
        }
       ],
       "layout": {
        "legend": {
         "bgcolor": "#FFFFFF",
         "font": {
          "color": "#666666"
         }
        },
        "paper_bgcolor": "#FFFFFF",
        "plot_bgcolor": "#E5E5E5",
        "title": {
         "font": {
          "color": "#151516"
         },
         "text": "Total Goals by Team by Season (Year)"
        },
        "xaxis": {
         "gridcolor": "#F6F6F6",
         "showgrid": true,
         "tickfont": {
          "color": "#666666"
         },
         "title": {
          "font": {
           "color": "#666666"
          },
          "text": ""
         },
         "zerolinecolor": "#F6F6F6"
        },
        "yaxis": {
         "gridcolor": "#F6F6F6",
         "showgrid": true,
         "tickfont": {
          "color": "#666666"
         },
         "title": {
          "font": {
           "color": "#666666"
          },
          "text": ""
         },
         "zerolinecolor": "#F6F6F6"
        }
       }
      },
      "text/html": [
       "<div>\n",
       "        \n",
       "        \n",
       "            <div id=\"c0454a54-3b30-4aee-a73a-a192b4e2103b\" class=\"plotly-graph-div\" style=\"height:525px; width:100%;\"></div>\n",
       "            <script type=\"text/javascript\">\n",
       "                require([\"plotly\"], function(Plotly) {\n",
       "                    window.PLOTLYENV=window.PLOTLYENV || {};\n",
       "                    window.PLOTLYENV.BASE_URL='https://plot.ly';\n",
       "                    \n",
       "                if (document.getElementById(\"c0454a54-3b30-4aee-a73a-a192b4e2103b\")) {\n",
       "                    Plotly.newPlot(\n",
       "                        'c0454a54-3b30-4aee-a73a-a192b4e2103b',\n",
       "                        [{\"marker\": {\"color\": \"rgba(226, 74, 51, 0.6)\", \"line\": {\"color\": \"rgba(226, 74, 51, 1.0)\", \"width\": 1}}, \"name\": \"2016.0\", \"orientation\": \"v\", \"text\": \"\", \"type\": \"bar\", \"uid\": \"6828f4de-021b-48ac-9421-8a985c62587a\", \"x\": [\"BOS\", \"CHI\", \"HOU\", \"KC\", \"NC\", \"NJ\", \"ORL\", \"POR\", \"SEA\", \"UTA\", \"WAS\", \"WNY\"], \"y\": [14.0, 23.0, 29.0, 18.0, \"\", 23.0, 17.0, 34.0, 29.0, \"\", 30.0, 42.0]}, {\"marker\": {\"color\": \"rgba(62, 111, 176, 0.6)\", \"line\": {\"color\": \"rgba(62, 111, 176, 1.0)\", \"width\": 1}}, \"name\": \"2017.0\", \"orientation\": \"v\", \"text\": \"\", \"type\": \"bar\", \"uid\": \"5814b35d-9552-4cac-9ed8-4691764efd6a\", \"x\": [\"BOS\", \"CHI\", \"HOU\", \"KC\", \"NC\", \"NJ\", \"ORL\", \"POR\", \"SEA\", \"UTA\", \"WAS\", \"WNY\"], \"y\": [22.0, 31.0, 23.0, 29.0, 37.0, 42.0, 45.0, 36.0, 48.0, \"\", 30.0, \"\"]}, {\"marker\": {\"color\": \"rgba(132, 118, 202, 0.6)\", \"line\": {\"color\": \"rgba(132, 118, 202, 1.0)\", \"width\": 1}}, \"name\": \"2018.0\", \"orientation\": \"v\", \"text\": \"\", \"type\": \"bar\", \"uid\": \"53a5a5d6-eff4-4252-87c2-7e43429bc814\", \"x\": [\"BOS\", \"CHI\", \"HOU\", \"KC\", \"NC\", \"NJ\", \"ORL\", \"POR\", \"SEA\", \"UTA\", \"WAS\", \"WNY\"], \"y\": [\"\", 33.0, 39.0, \"\", 52.0, 23.0, 30.0, 40.0, 29.0, 20.0, 12.0, \"\"]}, {\"marker\": {\"color\": \"rgba(101, 101, 101, 0.6)\", \"line\": {\"color\": \"rgba(101, 101, 101, 1.0)\", \"width\": 1}}, \"name\": \"2019.0\", \"orientation\": \"v\", \"text\": \"\", \"type\": \"bar\", \"uid\": \"39e9eca4-f7e1-49ce-8c4f-eb4fe732e5d0\", \"x\": [\"BOS\", \"CHI\", \"HOU\", \"KC\", \"NC\", \"NJ\", \"ORL\", \"POR\", \"SEA\", \"UTA\", \"WAS\", \"WNY\"], \"y\": [\"\", 13.0, 8.0, \"\", 16.0, 5.0, 2.0, 16.0, 8.0, 7.0, 10.0, \"\"]}],\n",
       "                        {\"legend\": {\"bgcolor\": \"#FFFFFF\", \"font\": {\"color\": \"#666666\"}}, \"paper_bgcolor\": \"#FFFFFF\", \"plot_bgcolor\": \"#E5E5E5\", \"title\": {\"font\": {\"color\": \"#151516\"}, \"text\": \"Total Goals by Team by Season (Year)\"}, \"xaxis\": {\"gridcolor\": \"#F6F6F6\", \"showgrid\": true, \"tickfont\": {\"color\": \"#666666\"}, \"title\": {\"font\": {\"color\": \"#666666\"}, \"text\": \"\"}, \"zerolinecolor\": \"#F6F6F6\"}, \"yaxis\": {\"gridcolor\": \"#F6F6F6\", \"showgrid\": true, \"tickfont\": {\"color\": \"#666666\"}, \"title\": {\"font\": {\"color\": \"#666666\"}, \"text\": \"\"}, \"zerolinecolor\": \"#F6F6F6\"}},\n",
       "                        {\"showLink\": true, \"linkText\": \"Export to plot.ly\", \"plotlyServerURL\": \"https://plot.ly\", \"responsive\": true}\n",
       "                    ).then(function(){\n",
       "                            \n",
       "var gd = document.getElementById('c0454a54-3b30-4aee-a73a-a192b4e2103b');\n",
       "var x = new MutationObserver(function (mutations, observer) {{\n",
       "        var display = window.getComputedStyle(gd).display;\n",
       "        if (!display || display === 'none') {{\n",
       "            console.log([gd, 'removed!']);\n",
       "            Plotly.purge(gd);\n",
       "            observer.disconnect();\n",
       "        }}\n",
       "}});\n",
       "\n",
       "// Listen for the removal of the full notebook cells\n",
       "var notebookContainer = gd.closest('#notebook-container');\n",
       "if (notebookContainer) {{\n",
       "    x.observe(notebookContainer, {childList: true});\n",
       "}}\n",
       "\n",
       "// Listen for the clearing of the current output cell\n",
       "var outputEl = gd.closest('.output');\n",
       "if (outputEl) {{\n",
       "    x.observe(outputEl, {childList: true});\n",
       "}}\n",
       "\n",
       "                        })\n",
       "                };\n",
       "                });\n",
       "            </script>\n",
       "        </div>"
      ]
     },
     "metadata": {},
     "output_type": "display_data"
    }
   ],
   "source": [
    "#this cell makes a bar graph of goals by team by season using the nwsl dataframe\n",
    "#this cell can be modified to account for any stat in the nwsl dataframe (such as\n",
    "#assists, minutes played, etc) to any statistic (sum, mean, etc)\n",
    "goals = nwsl.pivot_table(index = 'Team', columns = 'Season',\n",
    "                                                   values = 'Goals', aggfunc= sum)\n",
    "goals.iplot(kind = 'bar', title = 'Total Goals by Team by Season (Year)')"
   ]
  },
  {
   "cell_type": "code",
   "execution_count": 21,
   "metadata": {},
   "outputs": [
    {
     "data": {
      "application/vnd.plotly.v1+json": {
       "config": {
        "linkText": "Export to plot.ly",
        "plotlyServerURL": "https://plot.ly",
        "showLink": false
       },
       "data": [
        {
         "line": {
          "color": "rgba(226, 74, 51, 1.0)",
          "dash": "solid",
          "shape": "linear",
          "width": 1.3
         },
         "mode": "lines",
         "name": "BOS",
         "text": "",
         "type": "scatter",
         "uid": "4f200602-73e4-43fb-9b97-9b217e504489",
         "x": [
          2016,
          2017,
          2018,
          2019
         ],
         "y": [
          10,
          9,
          "",
          ""
         ]
        },
        {
         "line": {
          "color": "rgba(62, 111, 176, 1.0)",
          "dash": "solid",
          "shape": "linear",
          "width": 1.3
         },
         "mode": "lines",
         "name": "CHI",
         "text": "",
         "type": "scatter",
         "uid": "a074dc85-92fe-4ab9-b14c-4bf499959a8a",
         "x": [
          2016,
          2017,
          2018,
          2019
         ],
         "y": [
          3,
          4,
          4,
          5
         ]
        },
        {
         "line": {
          "color": "rgba(132, 118, 202, 1.0)",
          "dash": "solid",
          "shape": "linear",
          "width": 1.3
         },
         "mode": "lines",
         "name": "HOU",
         "text": "",
         "type": "scatter",
         "uid": "ac887ff0-9258-4f9f-8949-fb66b5910416",
         "x": [
          2016,
          2017,
          2018,
          2019
         ],
         "y": [
          8,
          8,
          6,
          6
         ]
        },
        {
         "line": {
          "color": "rgba(101, 101, 101, 1.0)",
          "dash": "solid",
          "shape": "linear",
          "width": 1.3
         },
         "mode": "lines",
         "name": "KC",
         "text": "",
         "type": "scatter",
         "uid": "3131adb0-dbf2-464b-8505-d0cfec472514",
         "x": [
          2016,
          2017,
          2018,
          2019
         ],
         "y": [
          6,
          7,
          "",
          ""
         ]
        },
        {
         "line": {
          "color": "rgba(251, 193, 94, 1.0)",
          "dash": "solid",
          "shape": "linear",
          "width": 1.3
         },
         "mode": "lines",
         "name": "NC",
         "text": "",
         "type": "scatter",
         "uid": "252d8e40-3e4b-40ee-9a9a-ea2d16e059ca",
         "x": [
          2016,
          2017,
          2018,
          2019
         ],
         "y": [
          "",
          1,
          1,
          4
         ]
        },
        {
         "line": {
          "color": "rgba(142, 186, 66, 1.0)",
          "dash": "solid",
          "shape": "linear",
          "width": 1.3
         },
         "mode": "lines",
         "name": "NJ",
         "text": "",
         "type": "scatter",
         "uid": "3bc72776-cc95-4ecc-be66-dd6aec397e75",
         "x": [
          2016,
          2017,
          2018,
          2019
         ],
         "y": [
          7,
          6,
          9,
          8
         ]
        },
        {
         "line": {
          "color": "rgba(255, 181, 184, 1.0)",
          "dash": "solid",
          "shape": "linear",
          "width": 1.3
         },
         "mode": "lines",
         "name": "ORL",
         "text": "",
         "type": "scatter",
         "uid": "0d4d0cb0-aa79-4e95-a508-ac0efb336dc1",
         "x": [
          2016,
          2017,
          2018,
          2019
         ],
         "y": [
          9,
          3,
          7,
          9
         ]
        },
        {
         "line": {
          "color": "rgba(255, 181, 184, 0.8999999999999999)",
          "dash": "solid",
          "shape": "linear",
          "width": 1.3
         },
         "mode": "lines",
         "name": "POR",
         "text": "",
         "type": "scatter",
         "uid": "1e6ee79c-134a-482c-9a18-61072fc945a7",
         "x": [
          2016,
          2017,
          2018,
          2019
         ],
         "y": [
          1,
          2,
          2,
          2
         ]
        },
        {
         "line": {
          "color": "rgba(226, 74, 51, 0.8999999999999999)",
          "dash": "solid",
          "shape": "linear",
          "width": 1.3
         },
         "mode": "lines",
         "name": "SEA",
         "text": "",
         "type": "scatter",
         "uid": "2efc5111-f0ab-4f15-9b8c-f4ae2ff3274b",
         "x": [
          2016,
          2017,
          2018,
          2019
         ],
         "y": [
          5,
          5,
          3,
          7
         ]
        },
        {
         "line": {
          "color": "rgba(62, 111, 176, 0.8999999999999999)",
          "dash": "solid",
          "shape": "linear",
          "width": 1.3
         },
         "mode": "lines",
         "name": "UTA",
         "text": "",
         "type": "scatter",
         "uid": "3b62836f-7847-4b04-bcc6-09c47c1f8c5b",
         "x": [
          2016,
          2017,
          2018,
          2019
         ],
         "y": [
          "",
          "",
          5,
          3
         ]
        },
        {
         "line": {
          "color": "rgba(132, 118, 202, 0.8999999999999999)",
          "dash": "solid",
          "shape": "linear",
          "width": 1.3
         },
         "mode": "lines",
         "name": "WAS",
         "text": "",
         "type": "scatter",
         "uid": "b4280101-4dac-4ac5-98db-839e9a150532",
         "x": [
          2016,
          2017,
          2018,
          2019
         ],
         "y": [
          2,
          10,
          8,
          1
         ]
        },
        {
         "line": {
          "color": "rgba(101, 101, 101, 0.8999999999999999)",
          "dash": "solid",
          "shape": "linear",
          "width": 1.3
         },
         "mode": "lines",
         "name": "WNY",
         "text": "",
         "type": "scatter",
         "uid": "602fd6a3-c96f-4f31-ad83-a7dbf87f654e",
         "x": [
          2016,
          2017,
          2018,
          2019
         ],
         "y": [
          4,
          "",
          "",
          ""
         ]
        }
       ],
       "layout": {
        "title": {
         "text": "Overall Team Ranking by Year"
        },
        "yaxis": {
         "autorange": "reversed"
        }
       }
      },
      "text/html": [
       "<div>\n",
       "        \n",
       "        \n",
       "            <div id=\"7ec44c9d-7128-4142-a61a-e48df5ea5235\" class=\"plotly-graph-div\" style=\"height:525px; width:100%;\"></div>\n",
       "            <script type=\"text/javascript\">\n",
       "                require([\"plotly\"], function(Plotly) {\n",
       "                    window.PLOTLYENV=window.PLOTLYENV || {};\n",
       "                    window.PLOTLYENV.BASE_URL='https://plot.ly';\n",
       "                    \n",
       "                if (document.getElementById(\"7ec44c9d-7128-4142-a61a-e48df5ea5235\")) {\n",
       "                    Plotly.newPlot(\n",
       "                        '7ec44c9d-7128-4142-a61a-e48df5ea5235',\n",
       "                        [{\"line\": {\"color\": \"rgba(226, 74, 51, 1.0)\", \"dash\": \"solid\", \"shape\": \"linear\", \"width\": 1.3}, \"mode\": \"lines\", \"name\": \"BOS\", \"text\": \"\", \"type\": \"scatter\", \"uid\": \"4f200602-73e4-43fb-9b97-9b217e504489\", \"x\": [2016, 2017, 2018, 2019], \"y\": [10.0, 9.0, \"\", \"\"]}, {\"line\": {\"color\": \"rgba(62, 111, 176, 1.0)\", \"dash\": \"solid\", \"shape\": \"linear\", \"width\": 1.3}, \"mode\": \"lines\", \"name\": \"CHI\", \"text\": \"\", \"type\": \"scatter\", \"uid\": \"a074dc85-92fe-4ab9-b14c-4bf499959a8a\", \"x\": [2016, 2017, 2018, 2019], \"y\": [3, 4, 4, 5]}, {\"line\": {\"color\": \"rgba(132, 118, 202, 1.0)\", \"dash\": \"solid\", \"shape\": \"linear\", \"width\": 1.3}, \"mode\": \"lines\", \"name\": \"HOU\", \"text\": \"\", \"type\": \"scatter\", \"uid\": \"ac887ff0-9258-4f9f-8949-fb66b5910416\", \"x\": [2016, 2017, 2018, 2019], \"y\": [8, 8, 6, 6]}, {\"line\": {\"color\": \"rgba(101, 101, 101, 1.0)\", \"dash\": \"solid\", \"shape\": \"linear\", \"width\": 1.3}, \"mode\": \"lines\", \"name\": \"KC\", \"text\": \"\", \"type\": \"scatter\", \"uid\": \"3131adb0-dbf2-464b-8505-d0cfec472514\", \"x\": [2016, 2017, 2018, 2019], \"y\": [6.0, 7.0, \"\", \"\"]}, {\"line\": {\"color\": \"rgba(251, 193, 94, 1.0)\", \"dash\": \"solid\", \"shape\": \"linear\", \"width\": 1.3}, \"mode\": \"lines\", \"name\": \"NC\", \"text\": \"\", \"type\": \"scatter\", \"uid\": \"252d8e40-3e4b-40ee-9a9a-ea2d16e059ca\", \"x\": [2016, 2017, 2018, 2019], \"y\": [\"\", 1.0, 1.0, 4.0]}, {\"line\": {\"color\": \"rgba(142, 186, 66, 1.0)\", \"dash\": \"solid\", \"shape\": \"linear\", \"width\": 1.3}, \"mode\": \"lines\", \"name\": \"NJ\", \"text\": \"\", \"type\": \"scatter\", \"uid\": \"3bc72776-cc95-4ecc-be66-dd6aec397e75\", \"x\": [2016, 2017, 2018, 2019], \"y\": [7, 6, 9, 8]}, {\"line\": {\"color\": \"rgba(255, 181, 184, 1.0)\", \"dash\": \"solid\", \"shape\": \"linear\", \"width\": 1.3}, \"mode\": \"lines\", \"name\": \"ORL\", \"text\": \"\", \"type\": \"scatter\", \"uid\": \"0d4d0cb0-aa79-4e95-a508-ac0efb336dc1\", \"x\": [2016, 2017, 2018, 2019], \"y\": [9, 3, 7, 9]}, {\"line\": {\"color\": \"rgba(255, 181, 184, 0.8999999999999999)\", \"dash\": \"solid\", \"shape\": \"linear\", \"width\": 1.3}, \"mode\": \"lines\", \"name\": \"POR\", \"text\": \"\", \"type\": \"scatter\", \"uid\": \"1e6ee79c-134a-482c-9a18-61072fc945a7\", \"x\": [2016, 2017, 2018, 2019], \"y\": [1, 2, 2, 2]}, {\"line\": {\"color\": \"rgba(226, 74, 51, 0.8999999999999999)\", \"dash\": \"solid\", \"shape\": \"linear\", \"width\": 1.3}, \"mode\": \"lines\", \"name\": \"SEA\", \"text\": \"\", \"type\": \"scatter\", \"uid\": \"2efc5111-f0ab-4f15-9b8c-f4ae2ff3274b\", \"x\": [2016, 2017, 2018, 2019], \"y\": [5, 5, 3, 7]}, {\"line\": {\"color\": \"rgba(62, 111, 176, 0.8999999999999999)\", \"dash\": \"solid\", \"shape\": \"linear\", \"width\": 1.3}, \"mode\": \"lines\", \"name\": \"UTA\", \"text\": \"\", \"type\": \"scatter\", \"uid\": \"3b62836f-7847-4b04-bcc6-09c47c1f8c5b\", \"x\": [2016, 2017, 2018, 2019], \"y\": [\"\", \"\", 5.0, 3.0]}, {\"line\": {\"color\": \"rgba(132, 118, 202, 0.8999999999999999)\", \"dash\": \"solid\", \"shape\": \"linear\", \"width\": 1.3}, \"mode\": \"lines\", \"name\": \"WAS\", \"text\": \"\", \"type\": \"scatter\", \"uid\": \"b4280101-4dac-4ac5-98db-839e9a150532\", \"x\": [2016, 2017, 2018, 2019], \"y\": [2, 10, 8, 1]}, {\"line\": {\"color\": \"rgba(101, 101, 101, 0.8999999999999999)\", \"dash\": \"solid\", \"shape\": \"linear\", \"width\": 1.3}, \"mode\": \"lines\", \"name\": \"WNY\", \"text\": \"\", \"type\": \"scatter\", \"uid\": \"602fd6a3-c96f-4f31-ad83-a7dbf87f654e\", \"x\": [2016, 2017, 2018, 2019], \"y\": [4.0, \"\", \"\", \"\"]}],\n",
       "                        {\"title\": {\"text\": \"Overall Team Ranking by Year\"}, \"yaxis\": {\"autorange\": \"reversed\"}},\n",
       "                        {\"showLink\": false, \"linkText\": \"Export to plot.ly\", \"plotlyServerURL\": \"https://plot.ly\", \"responsive\": true}\n",
       "                    ).then(function(){\n",
       "                            \n",
       "var gd = document.getElementById('7ec44c9d-7128-4142-a61a-e48df5ea5235');\n",
       "var x = new MutationObserver(function (mutations, observer) {{\n",
       "        var display = window.getComputedStyle(gd).display;\n",
       "        if (!display || display === 'none') {{\n",
       "            console.log([gd, 'removed!']);\n",
       "            Plotly.purge(gd);\n",
       "            observer.disconnect();\n",
       "        }}\n",
       "}});\n",
       "\n",
       "// Listen for the removal of the full notebook cells\n",
       "var notebookContainer = gd.closest('#notebook-container');\n",
       "if (notebookContainer) {{\n",
       "    x.observe(notebookContainer, {childList: true});\n",
       "}}\n",
       "\n",
       "// Listen for the clearing of the current output cell\n",
       "var outputEl = gd.closest('.output');\n",
       "if (outputEl) {{\n",
       "    x.observe(outputEl, {childList: true});\n",
       "}}\n",
       "\n",
       "                        })\n",
       "                };\n",
       "                });\n",
       "            </script>\n",
       "        </div>"
      ]
     },
     "metadata": {},
     "output_type": "display_data"
    }
   ],
   "source": [
    "#this cell creates a line graph of the rankings of each team\n",
    "rankings = get_ranks()\n",
    "layout = go.Layout(\n",
    "    yaxis=dict(\n",
    "        autorange = 'reversed'\n",
    "    ),\n",
    "    title = 'Overall Team Ranking by Year'\n",
    ")\n",
    "\n",
    "fig = rankings.iplot(layout = layout, asFigure=True)\n",
    "plot_url = iplot(fig)\n",
    "plot_url"
   ]
  },
  {
   "cell_type": "code",
   "execution_count": 22,
   "metadata": {},
   "outputs": [
    {
     "data": {
      "application/vnd.plotly.v1+json": {
       "config": {
        "linkText": "Export to plot.ly",
        "plotlyServerURL": "https://plot.ly",
        "showLink": true
       },
       "data": [
        {
         "marker": {
          "color": "rgba(226, 74, 51, 0.6)",
          "line": {
           "color": "rgba(226, 74, 51, 1.0)",
           "width": 1
          }
         },
         "name": "2016",
         "orientation": "v",
         "text": "",
         "type": "bar",
         "uid": "1efc07f5-f6f4-4c83-90f3-9f0948527ad4",
         "x": [
          "BOS",
          "CHI",
          "HOU",
          "KC",
          "NC",
          "NJ",
          "ORL",
          "POR",
          "SEA",
          "UTA",
          "WAS",
          "WNY"
         ],
         "y": [
          -33,
          4,
          0,
          -2,
          "",
          -6,
          -10,
          16,
          8,
          "",
          9,
          14
         ]
        },
        {
         "marker": {
          "color": "rgba(62, 111, 176, 0.6)",
          "line": {
           "color": "rgba(62, 111, 176, 1.0)",
           "width": 1
          }
         },
         "name": "2017",
         "orientation": "v",
         "text": "",
         "type": "bar",
         "uid": "31747867-77b1-47aa-8ab9-cc95def9a04b",
         "x": [
          "BOS",
          "CHI",
          "HOU",
          "KC",
          "NC",
          "NJ",
          "ORL",
          "POR",
          "SEA",
          "UTA",
          "WAS",
          "WNY"
         ],
         "y": [
          -11,
          3,
          -16,
          -2,
          16,
          -9,
          14,
          17,
          6,
          "",
          -18,
          ""
         ]
        },
        {
         "marker": {
          "color": "rgba(132, 118, 202, 0.6)",
          "line": {
           "color": "rgba(132, 118, 202, 1.0)",
           "width": 1
          }
         },
         "name": "2018",
         "orientation": "v",
         "text": "",
         "type": "bar",
         "uid": "1cacab79-0050-4d49-8625-cbdbc3c13f4c",
         "x": [
          "BOS",
          "CHI",
          "HOU",
          "KC",
          "NC",
          "NJ",
          "ORL",
          "POR",
          "SEA",
          "UTA",
          "WAS",
          "WNY"
         ],
         "y": [
          "",
          10,
          -4,
          "",
          36,
          -31,
          -7,
          12,
          8,
          -1,
          -23,
          ""
         ]
        },
        {
         "marker": {
          "color": "rgba(101, 101, 101, 0.6)",
          "line": {
           "color": "rgba(101, 101, 101, 1.0)",
           "width": 1
          }
         },
         "name": "2019",
         "orientation": "v",
         "text": "",
         "type": "bar",
         "uid": "df77f9eb-4c56-4dc2-91c1-d3e8d5d45fc3",
         "x": [
          "BOS",
          "CHI",
          "HOU",
          "KC",
          "NC",
          "NJ",
          "ORL",
          "POR",
          "SEA",
          "UTA",
          "WAS",
          "WNY"
         ],
         "y": [
          "",
          0,
          -1,
          "",
          8,
          -6,
          -16,
          6,
          -1,
          2,
          8,
          ""
         ]
        }
       ],
       "layout": {
        "legend": {
         "bgcolor": "#FFFFFF",
         "font": {
          "color": "#666666"
         }
        },
        "paper_bgcolor": "#FFFFFF",
        "plot_bgcolor": "#E5E5E5",
        "title": {
         "font": {
          "color": "#151516"
         },
         "text": "Goal Difference by Team by Season (Year)"
        },
        "xaxis": {
         "gridcolor": "#F6F6F6",
         "showgrid": true,
         "tickfont": {
          "color": "#666666"
         },
         "title": {
          "font": {
           "color": "#666666"
          },
          "text": ""
         },
         "zerolinecolor": "#F6F6F6"
        },
        "yaxis": {
         "gridcolor": "#F6F6F6",
         "showgrid": true,
         "tickfont": {
          "color": "#666666"
         },
         "title": {
          "font": {
           "color": "#666666"
          },
          "text": ""
         },
         "zerolinecolor": "#F6F6F6"
        }
       }
      },
      "text/html": [
       "<div>\n",
       "        \n",
       "        \n",
       "            <div id=\"a6087072-5be9-43ad-8fac-0f597cfcbf0a\" class=\"plotly-graph-div\" style=\"height:525px; width:100%;\"></div>\n",
       "            <script type=\"text/javascript\">\n",
       "                require([\"plotly\"], function(Plotly) {\n",
       "                    window.PLOTLYENV=window.PLOTLYENV || {};\n",
       "                    window.PLOTLYENV.BASE_URL='https://plot.ly';\n",
       "                    \n",
       "                if (document.getElementById(\"a6087072-5be9-43ad-8fac-0f597cfcbf0a\")) {\n",
       "                    Plotly.newPlot(\n",
       "                        'a6087072-5be9-43ad-8fac-0f597cfcbf0a',\n",
       "                        [{\"marker\": {\"color\": \"rgba(226, 74, 51, 0.6)\", \"line\": {\"color\": \"rgba(226, 74, 51, 1.0)\", \"width\": 1}}, \"name\": \"2016\", \"orientation\": \"v\", \"text\": \"\", \"type\": \"bar\", \"uid\": \"1efc07f5-f6f4-4c83-90f3-9f0948527ad4\", \"x\": [\"BOS\", \"CHI\", \"HOU\", \"KC\", \"NC\", \"NJ\", \"ORL\", \"POR\", \"SEA\", \"UTA\", \"WAS\", \"WNY\"], \"y\": [-33.0, 4.0, 0.0, -2.0, \"\", -6.0, -10.0, 16.0, 8.0, \"\", 9.0, 14.0]}, {\"marker\": {\"color\": \"rgba(62, 111, 176, 0.6)\", \"line\": {\"color\": \"rgba(62, 111, 176, 1.0)\", \"width\": 1}}, \"name\": \"2017\", \"orientation\": \"v\", \"text\": \"\", \"type\": \"bar\", \"uid\": \"31747867-77b1-47aa-8ab9-cc95def9a04b\", \"x\": [\"BOS\", \"CHI\", \"HOU\", \"KC\", \"NC\", \"NJ\", \"ORL\", \"POR\", \"SEA\", \"UTA\", \"WAS\", \"WNY\"], \"y\": [-11.0, 3.0, -16.0, -2.0, 16.0, -9.0, 14.0, 17.0, 6.0, \"\", -18.0, \"\"]}, {\"marker\": {\"color\": \"rgba(132, 118, 202, 0.6)\", \"line\": {\"color\": \"rgba(132, 118, 202, 1.0)\", \"width\": 1}}, \"name\": \"2018\", \"orientation\": \"v\", \"text\": \"\", \"type\": \"bar\", \"uid\": \"1cacab79-0050-4d49-8625-cbdbc3c13f4c\", \"x\": [\"BOS\", \"CHI\", \"HOU\", \"KC\", \"NC\", \"NJ\", \"ORL\", \"POR\", \"SEA\", \"UTA\", \"WAS\", \"WNY\"], \"y\": [\"\", 10.0, -4.0, \"\", 36.0, -31.0, -7.0, 12.0, 8.0, -1.0, -23.0, \"\"]}, {\"marker\": {\"color\": \"rgba(101, 101, 101, 0.6)\", \"line\": {\"color\": \"rgba(101, 101, 101, 1.0)\", \"width\": 1}}, \"name\": \"2019\", \"orientation\": \"v\", \"text\": \"\", \"type\": \"bar\", \"uid\": \"df77f9eb-4c56-4dc2-91c1-d3e8d5d45fc3\", \"x\": [\"BOS\", \"CHI\", \"HOU\", \"KC\", \"NC\", \"NJ\", \"ORL\", \"POR\", \"SEA\", \"UTA\", \"WAS\", \"WNY\"], \"y\": [\"\", 0.0, -1.0, \"\", 8.0, -6.0, -16.0, 6.0, -1.0, 2.0, 8.0, \"\"]}],\n",
       "                        {\"legend\": {\"bgcolor\": \"#FFFFFF\", \"font\": {\"color\": \"#666666\"}}, \"paper_bgcolor\": \"#FFFFFF\", \"plot_bgcolor\": \"#E5E5E5\", \"title\": {\"font\": {\"color\": \"#151516\"}, \"text\": \"Goal Difference by Team by Season (Year)\"}, \"xaxis\": {\"gridcolor\": \"#F6F6F6\", \"showgrid\": true, \"tickfont\": {\"color\": \"#666666\"}, \"title\": {\"font\": {\"color\": \"#666666\"}, \"text\": \"\"}, \"zerolinecolor\": \"#F6F6F6\"}, \"yaxis\": {\"gridcolor\": \"#F6F6F6\", \"showgrid\": true, \"tickfont\": {\"color\": \"#666666\"}, \"title\": {\"font\": {\"color\": \"#666666\"}, \"text\": \"\"}, \"zerolinecolor\": \"#F6F6F6\"}},\n",
       "                        {\"showLink\": true, \"linkText\": \"Export to plot.ly\", \"plotlyServerURL\": \"https://plot.ly\", \"responsive\": true}\n",
       "                    ).then(function(){\n",
       "                            \n",
       "var gd = document.getElementById('a6087072-5be9-43ad-8fac-0f597cfcbf0a');\n",
       "var x = new MutationObserver(function (mutations, observer) {{\n",
       "        var display = window.getComputedStyle(gd).display;\n",
       "        if (!display || display === 'none') {{\n",
       "            console.log([gd, 'removed!']);\n",
       "            Plotly.purge(gd);\n",
       "            observer.disconnect();\n",
       "        }}\n",
       "}});\n",
       "\n",
       "// Listen for the removal of the full notebook cells\n",
       "var notebookContainer = gd.closest('#notebook-container');\n",
       "if (notebookContainer) {{\n",
       "    x.observe(notebookContainer, {childList: true});\n",
       "}}\n",
       "\n",
       "// Listen for the clearing of the current output cell\n",
       "var outputEl = gd.closest('.output');\n",
       "if (outputEl) {{\n",
       "    x.observe(outputEl, {childList: true});\n",
       "}}\n",
       "\n",
       "                        })\n",
       "                };\n",
       "                });\n",
       "            </script>\n",
       "        </div>"
      ]
     },
     "metadata": {},
     "output_type": "display_data"
    }
   ],
   "source": [
    "#this cell plots a bar graph of goal difference by team by season using\n",
    "#the standings dataframe. This has less flexibility than the nwsl dataframe\n",
    "#but is simplier in structure\n",
    "seasoned = standings.pivot_table(index = 'Team',\n",
    "                                 columns = 'Season',\n",
    "                                 values = 'Goal Difference')\n",
    "seasoned.iplot(kind = 'bar', title = 'Goal Difference by Team by Season (Year)')"
   ]
  },
  {
   "cell_type": "markdown",
   "metadata": {},
   "source": [
    "In my visualizations of NWSL team data standings and statistics, I began to notice ranking trends, the most intuitive being teams with a higher goal difference (more goals for than against) seemed to usually end the season with a higher rank. This seems obvious, that the team that scores the most goals and has the least goals against them is the \"best team,\" but at the same time, goal difference was not the only indicator of performance.\n",
    "\n",
    "In 2016, CHI ended the season in 3rd place out of 10 with a 4 goal difference. Although both the Seattle Reign (SEA) and WNY both had a higher goal difference than CHI, at 8 and 14 respectively, both teams were ranked lower than CHI (in 4th and 5th place respectively). This occurs again in 2017 where CHI once again ranks higher than SEA despite having a lower goal difference.\n",
    "\n",
    "Similarly, ORL's highest rank (3rd) occured in 2017 when their goal difference was the highest while their lower ranks (9th in 2016 and 2019 and 7th in 2018) occured when their goal difference was low (below zero, meaning they had more goals against them than goals for)\n",
    "\n",
    "Furthermore, when looking at standings data, I noticed that some teams tended to be more stable than others in their seasonal ranking. For example, in the 2016-2019 seasons, POR has consistently been ranked highly, specifically in 2nd for 2017-2019 and 1st in 2016. Meanwhile, WAS ended the 2016 season in 2nd place but dropped to 10th in 2017, finished 8th in 2018, and then shot up to 1st in the first half of the 2019 season. This is visible on the line graph of standings and also through the goal difference comparison throughout the seasons.\n",
    "\n",
    "This trend may be due to factors not shown such as player trades, changing in coaching, player injuries, etc. In the future, I plan on scraping more extensive data from the NWSL site to visualize such as the ones listed and performing more detailed analysis and visualizations."
   ]
  },
  {
   "cell_type": "code",
   "execution_count": null,
   "metadata": {},
   "outputs": [],
   "source": []
  }
 ],
 "metadata": {
  "kernelspec": {
   "display_name": "Python 3",
   "language": "python",
   "name": "python3"
  },
  "language_info": {
   "codemirror_mode": {
    "name": "ipython",
    "version": 3
   },
   "file_extension": ".py",
   "mimetype": "text/x-python",
   "name": "python",
   "nbconvert_exporter": "python",
   "pygments_lexer": "ipython3",
   "version": "3.7.3"
  },
  "toc": {
   "base_numbering": 1,
   "nav_menu": {},
   "number_sections": false,
   "sideBar": false,
   "skip_h1_title": false,
   "title_cell": "Table of Contents",
   "title_sidebar": "Contents",
   "toc_cell": false,
   "toc_position": {},
   "toc_section_display": false,
   "toc_window_display": false
  }
 },
 "nbformat": 4,
 "nbformat_minor": 2
}
