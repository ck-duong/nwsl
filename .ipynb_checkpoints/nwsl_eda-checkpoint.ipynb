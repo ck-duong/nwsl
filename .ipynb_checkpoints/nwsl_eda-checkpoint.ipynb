{
 "cells": [
  {
   "cell_type": "markdown",
   "metadata": {},
   "source": [
    "# NWSL Exploratory Data Analysis"
   ]
  },
  {
   "cell_type": "markdown",
   "metadata": {},
   "source": [
    "## Introduction\n",
    "The National Women's Soccer League (NWSL) is the premier professional women's soccer league in the United States. In this repository, I will be scraping player and team data, from the NWSL website (www.nwslsoccer.com) and performing exploratory data analysis on the collected data."
   ]
  },
  {
   "cell_type": "code",
   "execution_count": 1,
   "metadata": {},
   "outputs": [],
   "source": [
    "#necessary imports to run the code\n",
    "import requests\n",
    "from bs4 import BeautifulSoup\n",
    "import pandas as pd\n",
    "import numpy as np\n",
    "import os"
   ]
  },
  {
   "cell_type": "code",
   "execution_count": 3,
   "metadata": {},
   "outputs": [
    {
     "data": {
      "text/html": [
       "        <script type=\"text/javascript\">\n",
       "        window.PlotlyConfig = {MathJaxConfig: 'local'};\n",
       "        if (window.MathJax) {MathJax.Hub.Config({SVG: {font: \"STIX-Web\"}});}\n",
       "        if (typeof require !== 'undefined') {\n",
       "        require.undef(\"plotly\");\n",
       "        requirejs.config({\n",
       "            paths: {\n",
       "                'plotly': ['https://cdn.plot.ly/plotly-latest.min']\n",
       "            }\n",
       "        });\n",
       "        require(['plotly'], function(Plotly) {\n",
       "            window._Plotly = Plotly;\n",
       "        });\n",
       "        }\n",
       "        </script>\n",
       "        "
      ]
     },
     "metadata": {},
     "output_type": "display_data"
    },
    {
     "data": {
      "text/html": [
       "        <script type=\"text/javascript\">\n",
       "        window.PlotlyConfig = {MathJaxConfig: 'local'};\n",
       "        if (window.MathJax) {MathJax.Hub.Config({SVG: {font: \"STIX-Web\"}});}\n",
       "        if (typeof require !== 'undefined') {\n",
       "        require.undef(\"plotly\");\n",
       "        requirejs.config({\n",
       "            paths: {\n",
       "                'plotly': ['https://cdn.plot.ly/plotly-latest.min']\n",
       "            }\n",
       "        });\n",
       "        require(['plotly'], function(Plotly) {\n",
       "            window._Plotly = Plotly;\n",
       "        });\n",
       "        }\n",
       "        </script>\n",
       "        "
      ]
     },
     "metadata": {},
     "output_type": "display_data"
    }
   ],
   "source": [
    "#imports for data visualization\n",
    "import seaborn as sns\n",
    "import matplotlib.pyplot as plt\n",
    "import plotly.plotly as py\n",
    "import plotly.graph_objs as go\n",
    "import plotly\n",
    "import cufflinks as cf\n",
    "\n",
    "#for offline plotting\n",
    "plotly.offline.init_notebook_mode(connected=True)\n",
    "cf.set_config_file(offline=True, world_readable=True, theme='ggplot')"
   ]
  },
  {
   "cell_type": "code",
   "execution_count": 4,
   "metadata": {},
   "outputs": [],
   "source": [
    "%load_ext autoreload\n",
    "%autoreload 2"
   ]
  },
  {
   "cell_type": "markdown",
   "metadata": {},
   "source": [
    "## Scraping\n",
    "In the subdirectory \"scraping\", there are three Python files written to scrape data from the official NWSL website: statscrape.py, teamscrape.py, and standingscrape.py. \n",
    "\n",
    "The statscrape.py file scrapes player data from the Stats page of the website for each player in the league from 2016 through 2019 (each of the years the league has made player/team stats publically available) and compiles them into csv files by year, entitled \"nwsl{}.csv\" for each year. \n",
    "\n",
    "The teamscrape.py file scrapes player data from the Team pages of the website for each team for each year the team has existed and compiles them into csv files by year, entitled \"position{}.csv\" for each year.\n",
    "\n",
    "The standingscrape.py file scrapes team data from the Standings pages of the website for each team for each year the league has provided public stats (2016 - 2019) and compiles them into csv files by year, entitled \"standings{}.csv\" for each year. Additionally, this file also formats the dataframes into more user-readable and more usable data by seperating the scraped Home and Away game data into seperate columns based on location (Home or Away) and game result (Win, Loss, Tie).\n",
    "\n",
    "In the following cell of code, I run these two files to create the csvs I will be working with in the rest of this notebook. Currently they are commented out since they only need to be run once to collect our data. However, I will note that the 2019 NWSL season is currently taking place, meaning that rerunning these files will get us the most up to date data. \n",
    "\n",
    "For this analysis, I will only be looking at the April and May statistics for the 2019 season, although my code will be able to work with future data as well since it will all be formatted in the same way. It is also worth nothing that as of June 2019, many NWSL teams are missing players who also serve on their national team (such as the USWNT, CANWNT, etc) due to the Women's World Cup occuring this summer."
   ]
  },
  {
   "cell_type": "code",
   "execution_count": 127,
   "metadata": {},
   "outputs": [],
   "source": [
    "#py files to run to scrape the data from the NWSL page. Only need to run once.\n",
    "#!python ./scraping/statscrape.py\n",
    "#!python ./scraping/teamscrape.py\n",
    "#!python ./scraping/standingscrape.py"
   ]
  },
  {
   "cell_type": "markdown",
   "metadata": {},
   "source": [
    "## Cleaning and Pre-Analysis\n",
    "This section of the notebook includes reading in the raw data and applying some basic cleaning to make the data easier to work with.\n",
    "\n",
    "Some cleaning/pre-analysis strategies I used were:\n",
    "\n",
    "- Combining the nwsl{}.csv and position{}.csv files into full{}.csv files so I could access both player stats and position.\n",
    "- Adding \"Season\" columns to each full{}.csv so that I could concat them all into a large dataframe to work with while still retaining a distinction between yearly data\n",
    "- Creating \"Goals per Game\", \"Assists per Game\", \"Shots per Game\", \"Proportion of Shots on Goal per Goal\", and \"Proportion of Shots on Goal\", for each player in the dataset\n",
    "- Combining all full{}.csv dataframes into a larger dataframe with data from all years"
   ]
  },
  {
   "cell_type": "code",
   "execution_count": 16,
   "metadata": {},
   "outputs": [],
   "source": [
    "def combination(start_year, end_year):\n",
    "    \"\"\"\n",
    "    Combines the nwsl.csv and position.csv csvs for each\n",
    "    year in the given range ad\n",
    "    \n",
    "    :parameters:\n",
    "    start_year - integer indicating start year of data\n",
    "    end_year - integer indicating end year of data\n",
    "    \"\"\"\n",
    "    for i in range(start_year, end_year + 1):\n",
    "        nwsl_file = 'nwsl{}.csv'.format(i)\n",
    "        position_file = 'position{}.csv'.format(i)\n",
    "\n",
    "        nwsl = pd.read_csv(os.path.join('data', 'nwsl', nwsl_file))\n",
    "        position = pd.read_csv(os.path.join('data', 'position', position_file))\n",
    "        df = nwsl.merge(position, left_on='Player Name',\n",
    "                            right_on='Player', how = 'left').drop('Player', axis = 1)\n",
    "\n",
    "        name = 'full{}.csv'.format(i)\n",
    "        path = os.path.join('data', 'full', name)\n",
    "\n",
    "        df.to_csv(path, index=False)"
   ]
  },
  {
   "cell_type": "code",
   "execution_count": 17,
   "metadata": {},
   "outputs": [],
   "source": [
    "#run to join all of the nwsl/position csvs\n",
    "combination(2016, 2019)"
   ]
  },
  {
   "cell_type": "code",
   "execution_count": 18,
   "metadata": {},
   "outputs": [
    {
     "data": {
      "text/plain": [
       "['data/full/full2016.csv',\n",
       " 'data/full/full2017.csv',\n",
       " 'data/full/full2018.csv',\n",
       " 'data/full/full2019.csv']"
      ]
     },
     "execution_count": 18,
     "metadata": {},
     "output_type": "execute_result"
    }
   ],
   "source": [
    "#getting all of the full.csv files in the subdirectory\n",
    "file_path = os.path.join('data', 'full')\n",
    "csvs = os.listdir(path = file_path)\n",
    "files = []\n",
    "#for loop to get all the full.csv paths\n",
    "for file in csvs:\n",
    "    fp = os.path.join(file_path, file)\n",
    "    files.append(fp)\n",
    "#for organization purposes later\n",
    "files.sort()\n",
    "files\n",
    "#use nwsl.files, full for with prediction later"
   ]
  },
  {
   "cell_type": "code",
   "execution_count": 44,
   "metadata": {},
   "outputs": [],
   "source": [
    "#reading all the files from the subdirectory\n",
    "#adding a \"season\" column so we can combine the full dataframes\n",
    "#and still be able to differentiate between seasons\n",
    "nwsl_2016 = pd.read_csv(files[0])\n",
    "nwsl_2016['Season'] = 2016\n",
    "\n",
    "nwsl_2017 = pd.read_csv(files[1])\n",
    "nwsl_2017['Season'] = 2017\n",
    "\n",
    "nwsl_2018 = pd.read_csv(files[2])\n",
    "nwsl_2018['Season'] = 2018\n",
    "\n",
    "nwsl_2019 = pd.read_csv(files[3])\n",
    "nwsl_2019['Season'] = 2019\n",
    "\n",
    "all_nwsl = [nwsl_2016, nwsl_2017, nwsl_2018, nwsl_2019]"
   ]
  },
  {
   "cell_type": "code",
   "execution_count": 47,
   "metadata": {},
   "outputs": [],
   "source": [
    "def calculate_stats(df):\n",
    "    \"\"\"\n",
    "    Calculates Goals per Game, Assists per Game, Shots per Game, \n",
    "    Proportion of Shots on Goal per Goal, and Proportion of Shots on\n",
    "    Goal, for each player in the dataset. Creates columns for these \n",
    "    values in each dataframe.\n",
    "    \n",
    "    :parameters:\n",
    "    df - dataframe like nwsl.csv/full.csv with neceesary columns\n",
    "    \"\"\"\n",
    "    #calculating stats, self explanatory column names\n",
    "    df['Goals per Game'] = df['Goals']/df['Games Played']\n",
    "    df['Assists per Game'] = df['Assists']/df['Games Played']\n",
    "    df['Shots per Game'] = df['Shots']/df['Games Played']\n",
    "    df['Prop SoG'] = df['Shots on Goal']/df['Shots']\n",
    "    df['Shots per Goal'] = df['Goals']/df['Shots on Goal']\n",
    "    \n",
    "    int_cols = df.columns[2:].tolist()\n",
    "    int_cols.remove('Position')\n",
    "    for each in int_cols:\n",
    "        df[each] = df[each].astype(float)\n",
    "    \n",
    "    #May create a classifer for Position later, leaving nulls in this column\n",
    "    nonPos = df.loc[:, ~df.columns.isin(['Position'])].columns.tolist()\n",
    "    df[nonPos] = df[nonPos].fillna(0)"
   ]
  },
  {
   "cell_type": "code",
   "execution_count": 48,
   "metadata": {},
   "outputs": [],
   "source": [
    "#apply above function to all dataframes in the list\n",
    "for each in all_nwsl:\n",
    "    calculate_stats(each)"
   ]
  },
  {
   "cell_type": "code",
   "execution_count": 56,
   "metadata": {},
   "outputs": [],
   "source": [
    "nwsl = pd.DataFrame(columns = nwsl_2019.columns)\n",
    "for each in all_nwsl:\n",
    "    nwsl = pd.concat([nwsl, each])\n",
    "#nwsl is the combined data for all years"
   ]
  },
  {
   "cell_type": "markdown",
   "metadata": {},
   "source": [
    "## Missingness"
   ]
  },
  {
   "cell_type": "markdown",
   "metadata": {},
   "source": [
    "#NOTE: MISSINGNESS FOR POSITION DATA: SOME TEAMS DON'T POST THEIR FULL OLDER ROSTER IE CRS 2016 ONLY HAD 5 PLAYERS\n",
    "#PLAYER POSITION MISSINGNESS: SOME PLAYERS ARE TEMPS/HIRES AND NOT FULLY CONTRACTED or TRADES/IF A PLAYER TRADED TEAMS THEN THEIR OLD TEAM DISCARDS THEIR DATA"
   ]
  },
  {
   "cell_type": "markdown",
   "metadata": {},
   "source": [
    "## Visualizations"
   ]
  },
  {
   "cell_type": "code",
   "execution_count": 130,
   "metadata": {},
   "outputs": [
    {
     "data": {
      "application/vnd.plotly.v1+json": {
       "config": {
        "linkText": "Export to plot.ly",
        "plotlyServerURL": "https://plot.ly",
        "showLink": true
       },
       "data": [
        {
         "marker": {
          "color": "rgba(226, 74, 51, 0.6)",
          "line": {
           "color": "rgba(226, 74, 51, 1.0)",
           "width": 1
          }
         },
         "name": "2016.0",
         "orientation": "v",
         "text": "",
         "type": "bar",
         "uid": "536c0a62-1c73-4d8f-8cc2-d75a74b7bc70",
         "x": [
          "BOS",
          "CHI",
          "HOU",
          "KC",
          "NC",
          "NJ",
          "ORL",
          "POR",
          "SEA",
          "UTA",
          "WAS",
          "WNY"
         ],
         "y": [
          14,
          23,
          29,
          18,
          "",
          23,
          17,
          34,
          29,
          "",
          30,
          42
         ]
        },
        {
         "marker": {
          "color": "rgba(62, 111, 176, 0.6)",
          "line": {
           "color": "rgba(62, 111, 176, 1.0)",
           "width": 1
          }
         },
         "name": "2017.0",
         "orientation": "v",
         "text": "",
         "type": "bar",
         "uid": "58e1c655-15f2-4b1a-8f01-dc9e5b892ed9",
         "x": [
          "BOS",
          "CHI",
          "HOU",
          "KC",
          "NC",
          "NJ",
          "ORL",
          "POR",
          "SEA",
          "UTA",
          "WAS",
          "WNY"
         ],
         "y": [
          22,
          31,
          23,
          29,
          37,
          42,
          45,
          36,
          48,
          "",
          30,
          ""
         ]
        },
        {
         "marker": {
          "color": "rgba(132, 118, 202, 0.6)",
          "line": {
           "color": "rgba(132, 118, 202, 1.0)",
           "width": 1
          }
         },
         "name": "2018.0",
         "orientation": "v",
         "text": "",
         "type": "bar",
         "uid": "90d6e2aa-94c4-4539-8c3a-6924832566ac",
         "x": [
          "BOS",
          "CHI",
          "HOU",
          "KC",
          "NC",
          "NJ",
          "ORL",
          "POR",
          "SEA",
          "UTA",
          "WAS",
          "WNY"
         ],
         "y": [
          "",
          33,
          39,
          "",
          52,
          21,
          30,
          40,
          27,
          20,
          12,
          ""
         ]
        },
        {
         "marker": {
          "color": "rgba(101, 101, 101, 0.6)",
          "line": {
           "color": "rgba(101, 101, 101, 1.0)",
           "width": 1
          }
         },
         "name": "2019.0",
         "orientation": "v",
         "text": "",
         "type": "bar",
         "uid": "33ecb6b0-b998-4cdc-a2dc-fa20cc442f2c",
         "x": [
          "BOS",
          "CHI",
          "HOU",
          "KC",
          "NC",
          "NJ",
          "ORL",
          "POR",
          "SEA",
          "UTA",
          "WAS",
          "WNY"
         ],
         "y": [
          "",
          13,
          8,
          "",
          16,
          5,
          2,
          16,
          8,
          7,
          10,
          ""
         ]
        }
       ],
       "layout": {
        "legend": {
         "bgcolor": "#FFFFFF",
         "font": {
          "color": "#666666"
         }
        },
        "paper_bgcolor": "#FFFFFF",
        "plot_bgcolor": "#E5E5E5",
        "title": {
         "font": {
          "color": "#151516"
         },
         "text": "Total Goals by Team by Year"
        },
        "xaxis": {
         "gridcolor": "#F6F6F6",
         "showgrid": true,
         "tickfont": {
          "color": "#666666"
         },
         "title": {
          "font": {
           "color": "#666666"
          },
          "text": ""
         },
         "zerolinecolor": "#F6F6F6"
        },
        "yaxis": {
         "gridcolor": "#F6F6F6",
         "showgrid": true,
         "tickfont": {
          "color": "#666666"
         },
         "title": {
          "font": {
           "color": "#666666"
          },
          "text": ""
         },
         "zerolinecolor": "#F6F6F6"
        }
       }
      },
      "text/html": [
       "<div>\n",
       "        \n",
       "        \n",
       "            <div id=\"76fc73b0-d639-4c12-bd1f-4f926f2c1d57\" class=\"plotly-graph-div\" style=\"height:525px; width:100%;\"></div>\n",
       "            <script type=\"text/javascript\">\n",
       "                require([\"plotly\"], function(Plotly) {\n",
       "                    window.PLOTLYENV=window.PLOTLYENV || {};\n",
       "                    window.PLOTLYENV.BASE_URL='https://plot.ly';\n",
       "                    \n",
       "                if (document.getElementById(\"76fc73b0-d639-4c12-bd1f-4f926f2c1d57\")) {\n",
       "                    Plotly.newPlot(\n",
       "                        '76fc73b0-d639-4c12-bd1f-4f926f2c1d57',\n",
       "                        [{\"marker\": {\"color\": \"rgba(226, 74, 51, 0.6)\", \"line\": {\"color\": \"rgba(226, 74, 51, 1.0)\", \"width\": 1}}, \"name\": \"2016.0\", \"orientation\": \"v\", \"text\": \"\", \"type\": \"bar\", \"uid\": \"536c0a62-1c73-4d8f-8cc2-d75a74b7bc70\", \"x\": [\"BOS\", \"CHI\", \"HOU\", \"KC\", \"NC\", \"NJ\", \"ORL\", \"POR\", \"SEA\", \"UTA\", \"WAS\", \"WNY\"], \"y\": [14.0, 23.0, 29.0, 18.0, \"\", 23.0, 17.0, 34.0, 29.0, \"\", 30.0, 42.0]}, {\"marker\": {\"color\": \"rgba(62, 111, 176, 0.6)\", \"line\": {\"color\": \"rgba(62, 111, 176, 1.0)\", \"width\": 1}}, \"name\": \"2017.0\", \"orientation\": \"v\", \"text\": \"\", \"type\": \"bar\", \"uid\": \"58e1c655-15f2-4b1a-8f01-dc9e5b892ed9\", \"x\": [\"BOS\", \"CHI\", \"HOU\", \"KC\", \"NC\", \"NJ\", \"ORL\", \"POR\", \"SEA\", \"UTA\", \"WAS\", \"WNY\"], \"y\": [22.0, 31.0, 23.0, 29.0, 37.0, 42.0, 45.0, 36.0, 48.0, \"\", 30.0, \"\"]}, {\"marker\": {\"color\": \"rgba(132, 118, 202, 0.6)\", \"line\": {\"color\": \"rgba(132, 118, 202, 1.0)\", \"width\": 1}}, \"name\": \"2018.0\", \"orientation\": \"v\", \"text\": \"\", \"type\": \"bar\", \"uid\": \"90d6e2aa-94c4-4539-8c3a-6924832566ac\", \"x\": [\"BOS\", \"CHI\", \"HOU\", \"KC\", \"NC\", \"NJ\", \"ORL\", \"POR\", \"SEA\", \"UTA\", \"WAS\", \"WNY\"], \"y\": [\"\", 33.0, 39.0, \"\", 52.0, 21.0, 30.0, 40.0, 27.0, 20.0, 12.0, \"\"]}, {\"marker\": {\"color\": \"rgba(101, 101, 101, 0.6)\", \"line\": {\"color\": \"rgba(101, 101, 101, 1.0)\", \"width\": 1}}, \"name\": \"2019.0\", \"orientation\": \"v\", \"text\": \"\", \"type\": \"bar\", \"uid\": \"33ecb6b0-b998-4cdc-a2dc-fa20cc442f2c\", \"x\": [\"BOS\", \"CHI\", \"HOU\", \"KC\", \"NC\", \"NJ\", \"ORL\", \"POR\", \"SEA\", \"UTA\", \"WAS\", \"WNY\"], \"y\": [\"\", 13.0, 8.0, \"\", 16.0, 5.0, 2.0, 16.0, 8.0, 7.0, 10.0, \"\"]}],\n",
       "                        {\"legend\": {\"bgcolor\": \"#FFFFFF\", \"font\": {\"color\": \"#666666\"}}, \"paper_bgcolor\": \"#FFFFFF\", \"plot_bgcolor\": \"#E5E5E5\", \"title\": {\"font\": {\"color\": \"#151516\"}, \"text\": \"Total Goals by Team by Year\"}, \"xaxis\": {\"gridcolor\": \"#F6F6F6\", \"showgrid\": true, \"tickfont\": {\"color\": \"#666666\"}, \"title\": {\"font\": {\"color\": \"#666666\"}, \"text\": \"\"}, \"zerolinecolor\": \"#F6F6F6\"}, \"yaxis\": {\"gridcolor\": \"#F6F6F6\", \"showgrid\": true, \"tickfont\": {\"color\": \"#666666\"}, \"title\": {\"font\": {\"color\": \"#666666\"}, \"text\": \"\"}, \"zerolinecolor\": \"#F6F6F6\"}},\n",
       "                        {\"showLink\": true, \"linkText\": \"Export to plot.ly\", \"plotlyServerURL\": \"https://plot.ly\", \"responsive\": true}\n",
       "                    ).then(function(){\n",
       "                            \n",
       "var gd = document.getElementById('76fc73b0-d639-4c12-bd1f-4f926f2c1d57');\n",
       "var x = new MutationObserver(function (mutations, observer) {{\n",
       "        var display = window.getComputedStyle(gd).display;\n",
       "        if (!display || display === 'none') {{\n",
       "            console.log([gd, 'removed!']);\n",
       "            Plotly.purge(gd);\n",
       "            observer.disconnect();\n",
       "        }}\n",
       "}});\n",
       "\n",
       "// Listen for the removal of the full notebook cells\n",
       "var notebookContainer = gd.closest('#notebook-container');\n",
       "if (notebookContainer) {{\n",
       "    x.observe(notebookContainer, {childList: true});\n",
       "}}\n",
       "\n",
       "// Listen for the clearing of the current output cell\n",
       "var outputEl = gd.closest('.output');\n",
       "if (outputEl) {{\n",
       "    x.observe(outputEl, {childList: true});\n",
       "}}\n",
       "\n",
       "                        })\n",
       "                };\n",
       "                });\n",
       "            </script>\n",
       "        </div>"
      ]
     },
     "metadata": {},
     "output_type": "display_data"
    }
   ],
   "source": [
    "drop_cols = ['Games Played', 'Games Started', 'Minutes Played']\n",
    "totals = nwsl.drop(drop_cols, axis = 1).groupby(['Team', 'Season']).sum()\n",
    "tester = totals[['Goals']].unstack()\n",
    "tester.columns = tester.columns.get_level_values(1)\n",
    "tester.iplot(kind = 'bar', title = 'Total Goals by Team by Year')"
   ]
  },
  {
   "cell_type": "markdown",
   "metadata": {},
   "source": [
    "## Analysis"
   ]
  },
  {
   "cell_type": "code",
   "execution_count": null,
   "metadata": {},
   "outputs": [],
   "source": [
    "#get the positions of each player, predict what position they play based on goals/assists/etc."
   ]
  },
  {
   "cell_type": "code",
   "execution_count": null,
   "metadata": {},
   "outputs": [],
   "source": []
  }
 ],
 "metadata": {
  "kernelspec": {
   "display_name": "Python 3",
   "language": "python",
   "name": "python3"
  },
  "language_info": {
   "codemirror_mode": {
    "name": "ipython",
    "version": 3
   },
   "file_extension": ".py",
   "mimetype": "text/x-python",
   "name": "python",
   "nbconvert_exporter": "python",
   "pygments_lexer": "ipython3",
   "version": "3.7.3"
  },
  "toc": {
   "base_numbering": 1,
   "nav_menu": {},
   "number_sections": false,
   "sideBar": false,
   "skip_h1_title": false,
   "title_cell": "Table of Contents",
   "title_sidebar": "Contents",
   "toc_cell": false,
   "toc_position": {},
   "toc_section_display": false,
   "toc_window_display": false
  }
 },
 "nbformat": 4,
 "nbformat_minor": 2
}
